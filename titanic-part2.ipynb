{
 "cells": [
  {
   "cell_type": "markdown",
   "metadata": {},
   "source": [
    "# Titanic\n",
    "\n",
    "## Part II: Feature Engineering\n",
    "\n",
    "This is a continuation of the [previous notebook](./titanic-part1.ipynb) which dealt with exploratory analysis of Titanic dataset.\n",
    "\n",
    "In this notebook, we'll create a new dataset containing both training and test data, fill missing values, create new columns, and prepare datasets for machine learning.\n",
    "\n",
    "Table of contents:\n",
    "\n",
    "* [Data preparation](#Data-preparation)\n",
    "* [Filling missing values](#Filling-missing-values)\n",
    "* [Creating new columns](#Creating-new-columns)\n",
    "* [Final touches](#Final-touches)"
   ]
  },
  {
   "cell_type": "markdown",
   "metadata": {},
   "source": [
    "## Data preparation"
   ]
  },
  {
   "cell_type": "code",
   "execution_count": 2,
   "metadata": {
    "ExecuteTime": {
     "end_time": "2016-09-07T21:06:09.038360",
     "start_time": "2016-09-07T21:06:08.146309"
    },
    "collapsed": true
   },
   "outputs": [],
   "source": [
    "import numpy as np \n",
    "import pandas as pd \n",
    "import seaborn as sns\n",
    "import matplotlib.pyplot as plt\n",
    "\n",
    "%matplotlib inline\n",
    "\n",
    "plt.style.use('ggplot')\n",
    "plt.rcParams['figure.figsize'] = (12.0, 6.0)\n",
    "plt.rcParams['font.size'] = 12\n",
    "plt.rcParams['figure.titlesize'] = 16\n",
    "plt.rcParams['figure.titleweight'] = 'bold'\n",
    "plt.rcParams['axes.titlesize'] = 16\n",
    "plt.rcParams['axes.titleweight'] = 'bold'\n",
    "plt.rcParams[\"axes.labelsize\"] = 13\n",
    "plt.rcParams[\"axes.labelweight\"] = 'bold'\n",
    "plt.rcParams[\"xtick.labelsize\"] = 11\n",
    "plt.rcParams[\"ytick.labelsize\"] = 11"
   ]
  },
  {
   "cell_type": "code",
   "execution_count": 3,
   "metadata": {
    "ExecuteTime": {
     "end_time": "2016-09-07T21:06:09.049361",
     "start_time": "2016-09-07T21:06:09.039360"
    },
    "collapsed": true
   },
   "outputs": [],
   "source": [
    "df_train = pd.read_csv('./datasets/titanic-train.csv', index_col='PassengerId')\n",
    "df_test = pd.read_csv('./datasets/titanic-test.csv', index_col='PassengerId')"
   ]
  },
  {
   "cell_type": "code",
   "execution_count": 4,
   "metadata": {
    "ExecuteTime": {
     "end_time": "2016-09-07T21:06:09.078362",
     "start_time": "2016-09-07T21:06:09.050361"
    },
    "collapsed": false
   },
   "outputs": [
    {
     "data": {
      "text/html": [
       "<div>\n",
       "<table border=\"1\" class=\"dataframe\">\n",
       "  <thead>\n",
       "    <tr style=\"text-align: right;\">\n",
       "      <th></th>\n",
       "      <th>Age</th>\n",
       "      <th>Cabin</th>\n",
       "      <th>Embarked</th>\n",
       "      <th>Fare</th>\n",
       "      <th>Name</th>\n",
       "      <th>Parch</th>\n",
       "      <th>Pclass</th>\n",
       "      <th>Sex</th>\n",
       "      <th>SibSp</th>\n",
       "      <th>Survived</th>\n",
       "      <th>Ticket</th>\n",
       "      <th>source</th>\n",
       "    </tr>\n",
       "    <tr>\n",
       "      <th>PassengerId</th>\n",
       "      <th></th>\n",
       "      <th></th>\n",
       "      <th></th>\n",
       "      <th></th>\n",
       "      <th></th>\n",
       "      <th></th>\n",
       "      <th></th>\n",
       "      <th></th>\n",
       "      <th></th>\n",
       "      <th></th>\n",
       "      <th></th>\n",
       "      <th></th>\n",
       "    </tr>\n",
       "  </thead>\n",
       "  <tbody>\n",
       "    <tr>\n",
       "      <th>1</th>\n",
       "      <td>22.0</td>\n",
       "      <td>NaN</td>\n",
       "      <td>S</td>\n",
       "      <td>7.2500</td>\n",
       "      <td>Braund, Mr. Owen Harris</td>\n",
       "      <td>0</td>\n",
       "      <td>3</td>\n",
       "      <td>male</td>\n",
       "      <td>1</td>\n",
       "      <td>0.0</td>\n",
       "      <td>A/5 21171</td>\n",
       "      <td>train</td>\n",
       "    </tr>\n",
       "    <tr>\n",
       "      <th>2</th>\n",
       "      <td>38.0</td>\n",
       "      <td>C85</td>\n",
       "      <td>C</td>\n",
       "      <td>71.2833</td>\n",
       "      <td>Cumings, Mrs. John Bradley (Florence Briggs Th...</td>\n",
       "      <td>0</td>\n",
       "      <td>1</td>\n",
       "      <td>female</td>\n",
       "      <td>1</td>\n",
       "      <td>1.0</td>\n",
       "      <td>PC 17599</td>\n",
       "      <td>train</td>\n",
       "    </tr>\n",
       "    <tr>\n",
       "      <th>3</th>\n",
       "      <td>26.0</td>\n",
       "      <td>NaN</td>\n",
       "      <td>S</td>\n",
       "      <td>7.9250</td>\n",
       "      <td>Heikkinen, Miss. Laina</td>\n",
       "      <td>0</td>\n",
       "      <td>3</td>\n",
       "      <td>female</td>\n",
       "      <td>0</td>\n",
       "      <td>1.0</td>\n",
       "      <td>STON/O2. 3101282</td>\n",
       "      <td>train</td>\n",
       "    </tr>\n",
       "    <tr>\n",
       "      <th>4</th>\n",
       "      <td>35.0</td>\n",
       "      <td>C123</td>\n",
       "      <td>S</td>\n",
       "      <td>53.1000</td>\n",
       "      <td>Futrelle, Mrs. Jacques Heath (Lily May Peel)</td>\n",
       "      <td>0</td>\n",
       "      <td>1</td>\n",
       "      <td>female</td>\n",
       "      <td>1</td>\n",
       "      <td>1.0</td>\n",
       "      <td>113803</td>\n",
       "      <td>train</td>\n",
       "    </tr>\n",
       "    <tr>\n",
       "      <th>5</th>\n",
       "      <td>35.0</td>\n",
       "      <td>NaN</td>\n",
       "      <td>S</td>\n",
       "      <td>8.0500</td>\n",
       "      <td>Allen, Mr. William Henry</td>\n",
       "      <td>0</td>\n",
       "      <td>3</td>\n",
       "      <td>male</td>\n",
       "      <td>0</td>\n",
       "      <td>0.0</td>\n",
       "      <td>373450</td>\n",
       "      <td>train</td>\n",
       "    </tr>\n",
       "  </tbody>\n",
       "</table>\n",
       "</div>"
      ],
      "text/plain": [
       "              Age Cabin Embarked     Fare  \\\n",
       "PassengerId                                 \n",
       "1            22.0   NaN        S   7.2500   \n",
       "2            38.0   C85        C  71.2833   \n",
       "3            26.0   NaN        S   7.9250   \n",
       "4            35.0  C123        S  53.1000   \n",
       "5            35.0   NaN        S   8.0500   \n",
       "\n",
       "                                                          Name  Parch  Pclass  \\\n",
       "PassengerId                                                                     \n",
       "1                                      Braund, Mr. Owen Harris      0       3   \n",
       "2            Cumings, Mrs. John Bradley (Florence Briggs Th...      0       1   \n",
       "3                                       Heikkinen, Miss. Laina      0       3   \n",
       "4                 Futrelle, Mrs. Jacques Heath (Lily May Peel)      0       1   \n",
       "5                                     Allen, Mr. William Henry      0       3   \n",
       "\n",
       "                Sex  SibSp  Survived            Ticket source  \n",
       "PassengerId                                                    \n",
       "1              male      1       0.0         A/5 21171  train  \n",
       "2            female      1       1.0          PC 17599  train  \n",
       "3            female      0       1.0  STON/O2. 3101282  train  \n",
       "4            female      1       1.0            113803  train  \n",
       "5              male      0       0.0            373450  train  "
      ]
     },
     "execution_count": 4,
     "metadata": {},
     "output_type": "execute_result"
    }
   ],
   "source": [
    "df_train['source'] = 'train'\n",
    "df_test['source'] = 'test'\n",
    "\n",
    "df = pd.concat([df_train, df_test], axis=0)\n",
    "df.head()"
   ]
  },
  {
   "cell_type": "code",
   "execution_count": 5,
   "metadata": {
    "ExecuteTime": {
     "end_time": "2016-09-07T21:06:09.088363",
     "start_time": "2016-09-07T21:06:09.079362"
    },
    "collapsed": false
   },
   "outputs": [
    {
     "name": "stdout",
     "output_type": "stream",
     "text": [
      "<class 'pandas.core.frame.DataFrame'>\n",
      "Int64Index: 1309 entries, 1 to 1309\n",
      "Data columns (total 12 columns):\n",
      "Age         1046 non-null float64\n",
      "Cabin       295 non-null object\n",
      "Embarked    1307 non-null object\n",
      "Fare        1308 non-null float64\n",
      "Name        1309 non-null object\n",
      "Parch       1309 non-null int64\n",
      "Pclass      1309 non-null int64\n",
      "Sex         1309 non-null object\n",
      "SibSp       1309 non-null int64\n",
      "Survived    891 non-null float64\n",
      "Ticket      1309 non-null object\n",
      "source      1309 non-null object\n",
      "dtypes: float64(3), int64(3), object(6)\n",
      "memory usage: 132.9+ KB\n"
     ]
    }
   ],
   "source": [
    "df.info()"
   ]
  },
  {
   "cell_type": "code",
   "execution_count": 6,
   "metadata": {
    "ExecuteTime": {
     "end_time": "2016-09-07T21:06:09.118364",
     "start_time": "2016-09-07T21:06:09.089363"
    },
    "collapsed": false
   },
   "outputs": [
    {
     "data": {
      "text/html": [
       "<div>\n",
       "<table border=\"1\" class=\"dataframe\">\n",
       "  <thead>\n",
       "    <tr style=\"text-align: right;\">\n",
       "      <th></th>\n",
       "      <th>Age</th>\n",
       "      <th>Fare</th>\n",
       "      <th>Parch</th>\n",
       "      <th>Pclass</th>\n",
       "      <th>SibSp</th>\n",
       "      <th>Survived</th>\n",
       "    </tr>\n",
       "  </thead>\n",
       "  <tbody>\n",
       "    <tr>\n",
       "      <th>count</th>\n",
       "      <td>1046.000000</td>\n",
       "      <td>1308.000000</td>\n",
       "      <td>1309.000000</td>\n",
       "      <td>1309.000000</td>\n",
       "      <td>1309.000000</td>\n",
       "      <td>891.000000</td>\n",
       "    </tr>\n",
       "    <tr>\n",
       "      <th>mean</th>\n",
       "      <td>29.881138</td>\n",
       "      <td>33.295479</td>\n",
       "      <td>0.385027</td>\n",
       "      <td>2.294882</td>\n",
       "      <td>0.498854</td>\n",
       "      <td>0.383838</td>\n",
       "    </tr>\n",
       "    <tr>\n",
       "      <th>std</th>\n",
       "      <td>14.413493</td>\n",
       "      <td>51.758668</td>\n",
       "      <td>0.865560</td>\n",
       "      <td>0.837836</td>\n",
       "      <td>1.041658</td>\n",
       "      <td>0.486592</td>\n",
       "    </tr>\n",
       "    <tr>\n",
       "      <th>min</th>\n",
       "      <td>0.170000</td>\n",
       "      <td>0.000000</td>\n",
       "      <td>0.000000</td>\n",
       "      <td>1.000000</td>\n",
       "      <td>0.000000</td>\n",
       "      <td>0.000000</td>\n",
       "    </tr>\n",
       "    <tr>\n",
       "      <th>25%</th>\n",
       "      <td>21.000000</td>\n",
       "      <td>7.895800</td>\n",
       "      <td>0.000000</td>\n",
       "      <td>2.000000</td>\n",
       "      <td>0.000000</td>\n",
       "      <td>0.000000</td>\n",
       "    </tr>\n",
       "    <tr>\n",
       "      <th>50%</th>\n",
       "      <td>28.000000</td>\n",
       "      <td>14.454200</td>\n",
       "      <td>0.000000</td>\n",
       "      <td>3.000000</td>\n",
       "      <td>0.000000</td>\n",
       "      <td>0.000000</td>\n",
       "    </tr>\n",
       "    <tr>\n",
       "      <th>75%</th>\n",
       "      <td>39.000000</td>\n",
       "      <td>31.275000</td>\n",
       "      <td>0.000000</td>\n",
       "      <td>3.000000</td>\n",
       "      <td>1.000000</td>\n",
       "      <td>1.000000</td>\n",
       "    </tr>\n",
       "    <tr>\n",
       "      <th>max</th>\n",
       "      <td>80.000000</td>\n",
       "      <td>512.329200</td>\n",
       "      <td>9.000000</td>\n",
       "      <td>3.000000</td>\n",
       "      <td>8.000000</td>\n",
       "      <td>1.000000</td>\n",
       "    </tr>\n",
       "  </tbody>\n",
       "</table>\n",
       "</div>"
      ],
      "text/plain": [
       "               Age         Fare        Parch       Pclass        SibSp  \\\n",
       "count  1046.000000  1308.000000  1309.000000  1309.000000  1309.000000   \n",
       "mean     29.881138    33.295479     0.385027     2.294882     0.498854   \n",
       "std      14.413493    51.758668     0.865560     0.837836     1.041658   \n",
       "min       0.170000     0.000000     0.000000     1.000000     0.000000   \n",
       "25%      21.000000     7.895800     0.000000     2.000000     0.000000   \n",
       "50%      28.000000    14.454200     0.000000     3.000000     0.000000   \n",
       "75%      39.000000    31.275000     0.000000     3.000000     1.000000   \n",
       "max      80.000000   512.329200     9.000000     3.000000     8.000000   \n",
       "\n",
       "         Survived  \n",
       "count  891.000000  \n",
       "mean     0.383838  \n",
       "std      0.486592  \n",
       "min      0.000000  \n",
       "25%      0.000000  \n",
       "50%      0.000000  \n",
       "75%      1.000000  \n",
       "max      1.000000  "
      ]
     },
     "execution_count": 6,
     "metadata": {},
     "output_type": "execute_result"
    }
   ],
   "source": [
    "df.describe()"
   ]
  },
  {
   "cell_type": "code",
   "execution_count": 7,
   "metadata": {
    "ExecuteTime": {
     "end_time": "2016-09-07T21:06:09.156367",
     "start_time": "2016-09-07T21:06:09.119365"
    },
    "collapsed": false
   },
   "outputs": [
    {
     "data": {
      "text/html": [
       "<div>\n",
       "<table border=\"1\" class=\"dataframe\">\n",
       "  <thead>\n",
       "    <tr style=\"text-align: right;\">\n",
       "      <th></th>\n",
       "      <th>Cabin</th>\n",
       "      <th>Embarked</th>\n",
       "      <th>Name</th>\n",
       "      <th>Sex</th>\n",
       "      <th>Ticket</th>\n",
       "      <th>source</th>\n",
       "    </tr>\n",
       "  </thead>\n",
       "  <tbody>\n",
       "    <tr>\n",
       "      <th>count</th>\n",
       "      <td>295</td>\n",
       "      <td>1307</td>\n",
       "      <td>1309</td>\n",
       "      <td>1309</td>\n",
       "      <td>1309</td>\n",
       "      <td>1309</td>\n",
       "    </tr>\n",
       "    <tr>\n",
       "      <th>unique</th>\n",
       "      <td>186</td>\n",
       "      <td>3</td>\n",
       "      <td>1307</td>\n",
       "      <td>2</td>\n",
       "      <td>929</td>\n",
       "      <td>2</td>\n",
       "    </tr>\n",
       "    <tr>\n",
       "      <th>top</th>\n",
       "      <td>C23 C25 C27</td>\n",
       "      <td>S</td>\n",
       "      <td>Kelly, Mr. James</td>\n",
       "      <td>male</td>\n",
       "      <td>CA. 2343</td>\n",
       "      <td>train</td>\n",
       "    </tr>\n",
       "    <tr>\n",
       "      <th>freq</th>\n",
       "      <td>6</td>\n",
       "      <td>914</td>\n",
       "      <td>2</td>\n",
       "      <td>843</td>\n",
       "      <td>11</td>\n",
       "      <td>891</td>\n",
       "    </tr>\n",
       "  </tbody>\n",
       "</table>\n",
       "</div>"
      ],
      "text/plain": [
       "              Cabin Embarked              Name   Sex    Ticket source\n",
       "count           295     1307              1309  1309      1309   1309\n",
       "unique          186        3              1307     2       929      2\n",
       "top     C23 C25 C27        S  Kelly, Mr. James  male  CA. 2343  train\n",
       "freq              6      914                 2   843        11    891"
      ]
     },
     "execution_count": 7,
     "metadata": {},
     "output_type": "execute_result"
    }
   ],
   "source": [
    "df.select_dtypes(include=['object']).describe()"
   ]
  },
  {
   "cell_type": "markdown",
   "metadata": {},
   "source": [
    "## Filling missing values"
   ]
  },
  {
   "cell_type": "markdown",
   "metadata": {},
   "source": [
    "### Embarked\n",
    "\n",
    "Most of the passengers embarked in Southampton, and logical thing to do would be to fill missing embarkment values with it. Let's see if we can do better."
   ]
  },
  {
   "cell_type": "code",
   "execution_count": 8,
   "metadata": {
    "ExecuteTime": {
     "end_time": "2016-09-07T21:06:09.173368",
     "start_time": "2016-09-07T21:06:09.157367"
    },
    "collapsed": false
   },
   "outputs": [
    {
     "data": {
      "text/html": [
       "<div>\n",
       "<table border=\"1\" class=\"dataframe\">\n",
       "  <thead>\n",
       "    <tr style=\"text-align: right;\">\n",
       "      <th></th>\n",
       "      <th>Age</th>\n",
       "      <th>Cabin</th>\n",
       "      <th>Embarked</th>\n",
       "      <th>Fare</th>\n",
       "      <th>Name</th>\n",
       "      <th>Parch</th>\n",
       "      <th>Pclass</th>\n",
       "      <th>Sex</th>\n",
       "      <th>SibSp</th>\n",
       "      <th>Survived</th>\n",
       "      <th>Ticket</th>\n",
       "      <th>source</th>\n",
       "    </tr>\n",
       "    <tr>\n",
       "      <th>PassengerId</th>\n",
       "      <th></th>\n",
       "      <th></th>\n",
       "      <th></th>\n",
       "      <th></th>\n",
       "      <th></th>\n",
       "      <th></th>\n",
       "      <th></th>\n",
       "      <th></th>\n",
       "      <th></th>\n",
       "      <th></th>\n",
       "      <th></th>\n",
       "      <th></th>\n",
       "    </tr>\n",
       "  </thead>\n",
       "  <tbody>\n",
       "    <tr>\n",
       "      <th>62</th>\n",
       "      <td>38.0</td>\n",
       "      <td>B28</td>\n",
       "      <td>NaN</td>\n",
       "      <td>80.0</td>\n",
       "      <td>Icard, Miss. Amelie</td>\n",
       "      <td>0</td>\n",
       "      <td>1</td>\n",
       "      <td>female</td>\n",
       "      <td>0</td>\n",
       "      <td>1.0</td>\n",
       "      <td>113572</td>\n",
       "      <td>train</td>\n",
       "    </tr>\n",
       "    <tr>\n",
       "      <th>830</th>\n",
       "      <td>62.0</td>\n",
       "      <td>B28</td>\n",
       "      <td>NaN</td>\n",
       "      <td>80.0</td>\n",
       "      <td>Stone, Mrs. George Nelson (Martha Evelyn)</td>\n",
       "      <td>0</td>\n",
       "      <td>1</td>\n",
       "      <td>female</td>\n",
       "      <td>0</td>\n",
       "      <td>1.0</td>\n",
       "      <td>113572</td>\n",
       "      <td>train</td>\n",
       "    </tr>\n",
       "  </tbody>\n",
       "</table>\n",
       "</div>"
      ],
      "text/plain": [
       "              Age Cabin Embarked  Fare  \\\n",
       "PassengerId                              \n",
       "62           38.0   B28      NaN  80.0   \n",
       "830          62.0   B28      NaN  80.0   \n",
       "\n",
       "                                                  Name  Parch  Pclass     Sex  \\\n",
       "PassengerId                                                                     \n",
       "62                                 Icard, Miss. Amelie      0       1  female   \n",
       "830          Stone, Mrs. George Nelson (Martha Evelyn)      0       1  female   \n",
       "\n",
       "             SibSp  Survived  Ticket source  \n",
       "PassengerId                                  \n",
       "62               0       1.0  113572  train  \n",
       "830              0       1.0  113572  train  "
      ]
     },
     "execution_count": 8,
     "metadata": {},
     "output_type": "execute_result"
    }
   ],
   "source": [
    "df[df.Embarked.isnull()]"
   ]
  },
  {
   "cell_type": "markdown",
   "metadata": {},
   "source": [
    "Both passengers with missing port of embarkment paid the same fare (80) and were in first class (Pclass = 1). Let's explore if that's in line with some embarkment's values."
   ]
  },
  {
   "cell_type": "code",
   "execution_count": 9,
   "metadata": {
    "ExecuteTime": {
     "end_time": "2016-09-07T21:06:09.926411",
     "start_time": "2016-09-07T21:06:09.174368"
    },
    "collapsed": false
   },
   "outputs": [
    {
     "data": {
      "image/png": "[encoded data removed]",
      "text/plain": [
       "<matplotlib.figure.Figure at 0x9ecbf28>"
      ]
     },
     "metadata": {},
     "output_type": "display_data"
    }
   ],
   "source": [
    "ax = sns.boxplot(data=df, x='Embarked', y='Fare', hue='Pclass')\n",
    "\n",
    "_ = (ax.set_ylim(0, 300),\n",
    "     ax.axhline(80, lw=2, c='black', ls='--')\n",
    "    )"
   ]
  },
  {
   "cell_type": "markdown",
   "metadata": {},
   "source": [
    "Cherbourg seems like a much more likely choice than our first instinct, Southampton."
   ]
  },
  {
   "cell_type": "code",
   "execution_count": 10,
   "metadata": {
    "ExecuteTime": {
     "end_time": "2016-09-07T21:06:09.930411",
     "start_time": "2016-09-07T21:06:09.927411"
    },
    "collapsed": true
   },
   "outputs": [],
   "source": [
    "df.Embarked.fillna('C', inplace=True)"
   ]
  },
  {
   "cell_type": "markdown",
   "metadata": {},
   "source": [
    "### Fare"
   ]
  },
  {
   "cell_type": "code",
   "execution_count": 11,
   "metadata": {
    "ExecuteTime": {
     "end_time": "2016-09-07T21:06:09.948412",
     "start_time": "2016-09-07T21:06:09.931411"
    },
    "collapsed": false
   },
   "outputs": [
    {
     "data": {
      "text/html": [
       "<div>\n",
       "<table border=\"1\" class=\"dataframe\">\n",
       "  <thead>\n",
       "    <tr style=\"text-align: right;\">\n",
       "      <th></th>\n",
       "      <th>Age</th>\n",
       "      <th>Cabin</th>\n",
       "      <th>Embarked</th>\n",
       "      <th>Fare</th>\n",
       "      <th>Name</th>\n",
       "      <th>Parch</th>\n",
       "      <th>Pclass</th>\n",
       "      <th>Sex</th>\n",
       "      <th>SibSp</th>\n",
       "      <th>Survived</th>\n",
       "      <th>Ticket</th>\n",
       "      <th>source</th>\n",
       "    </tr>\n",
       "    <tr>\n",
       "      <th>PassengerId</th>\n",
       "      <th></th>\n",
       "      <th></th>\n",
       "      <th></th>\n",
       "      <th></th>\n",
       "      <th></th>\n",
       "      <th></th>\n",
       "      <th></th>\n",
       "      <th></th>\n",
       "      <th></th>\n",
       "      <th></th>\n",
       "      <th></th>\n",
       "      <th></th>\n",
       "    </tr>\n",
       "  </thead>\n",
       "  <tbody>\n",
       "    <tr>\n",
       "      <th>1044</th>\n",
       "      <td>60.5</td>\n",
       "      <td>NaN</td>\n",
       "      <td>S</td>\n",
       "      <td>NaN</td>\n",
       "      <td>Storey, Mr. Thomas</td>\n",
       "      <td>0</td>\n",
       "      <td>3</td>\n",
       "      <td>male</td>\n",
       "      <td>0</td>\n",
       "      <td>NaN</td>\n",
       "      <td>3701</td>\n",
       "      <td>test</td>\n",
       "    </tr>\n",
       "  </tbody>\n",
       "</table>\n",
       "</div>"
      ],
      "text/plain": [
       "              Age Cabin Embarked  Fare                Name  Parch  Pclass  \\\n",
       "PassengerId                                                                 \n",
       "1044         60.5   NaN        S   NaN  Storey, Mr. Thomas      0       3   \n",
       "\n",
       "              Sex  SibSp  Survived Ticket source  \n",
       "PassengerId                                       \n",
       "1044         male      0       NaN   3701   test  "
      ]
     },
     "execution_count": 11,
     "metadata": {},
     "output_type": "execute_result"
    }
   ],
   "source": [
    "df[df.Fare.isnull()]"
   ]
  },
  {
   "cell_type": "code",
   "execution_count": 12,
   "metadata": {
    "ExecuteTime": {
     "end_time": "2016-09-07T21:06:09.957412",
     "start_time": "2016-09-07T21:06:09.949412"
    },
    "collapsed": false
   },
   "outputs": [
    {
     "data": {
      "text/plain": [
       "8.05"
      ]
     },
     "execution_count": 12,
     "metadata": {},
     "output_type": "execute_result"
    }
   ],
   "source": [
    "med = df[(df.Embarked == 'S') & (df.Pclass == 3)]['Fare'].median()\n",
    "med"
   ]
  },
  {
   "cell_type": "markdown",
   "metadata": {},
   "source": [
    "We'll fill the missing value with the median value (8.05) for people who embarked in Southampton and were in third class."
   ]
  },
  {
   "cell_type": "code",
   "execution_count": 13,
   "metadata": {
    "ExecuteTime": {
     "end_time": "2016-09-07T21:06:09.961413",
     "start_time": "2016-09-07T21:06:09.958413"
    },
    "collapsed": true
   },
   "outputs": [],
   "source": [
    "df.Fare.fillna(med, inplace=True)"
   ]
  },
  {
   "cell_type": "markdown",
   "metadata": {},
   "source": [
    "## Creating new columns"
   ]
  },
  {
   "cell_type": "markdown",
   "metadata": {},
   "source": [
    "### Male\n",
    "\n",
    "Scikit-learn cannot deal with strings, so the easiest way to convert `Sex` column is to introduce `male` column, which will have two values: \n",
    "\n",
    "* 1 for males\n",
    "* 0 for females"
   ]
  },
  {
   "cell_type": "code",
   "execution_count": 14,
   "metadata": {
    "ExecuteTime": {
     "end_time": "2016-09-07T21:06:09.968413",
     "start_time": "2016-09-07T21:06:09.962413"
    },
    "collapsed": true
   },
   "outputs": [],
   "source": [
    "df['male'] = (~df['Sex'].str.contains('fe')).astype(int)"
   ]
  },
  {
   "cell_type": "markdown",
   "metadata": {},
   "source": [
    "### Last name\n",
    "\n",
    "It is possible to extract last names of passengers, which might be useful later when we'll deal with families."
   ]
  },
  {
   "cell_type": "code",
   "execution_count": 15,
   "metadata": {
    "ExecuteTime": {
     "end_time": "2016-09-07T21:06:09.976414",
     "start_time": "2016-09-07T21:06:09.969413"
    },
    "collapsed": false
   },
   "outputs": [],
   "source": [
    "def extract_last_name(full_name):\n",
    "    return full_name.split(',')[0]\n",
    "\n",
    "df['last_name'] = df.Name.apply(extract_last_name)"
   ]
  },
  {
   "cell_type": "markdown",
   "metadata": {},
   "source": [
    "### Title\n",
    "\n",
    "Let's extract titles from passengers' full names. Different titles might have different survival rates, and this could be useful for grouping people."
   ]
  },
  {
   "cell_type": "code",
   "execution_count": 16,
   "metadata": {
    "ExecuteTime": {
     "end_time": "2016-09-07T21:06:09.987414",
     "start_time": "2016-09-07T21:06:09.977414"
    },
    "collapsed": false
   },
   "outputs": [
    {
     "data": {
      "text/plain": [
       "array(['Capt', 'Col', 'Don', 'Dona', 'Dr', 'Jonkheer', 'Lady', 'Major',\n",
       "       'Master', 'Miss', 'Mlle', 'Mme', 'Mr', 'Mrs', 'Ms', 'Rev', 'Sir',\n",
       "       'the Countess'], dtype=object)"
      ]
     },
     "execution_count": 16,
     "metadata": {},
     "output_type": "execute_result"
    }
   ],
   "source": [
    "def extract_title(full_name):\n",
    "    return full_name.split(',')[1].split('.')[0].strip()\n",
    "\n",
    "all_titles = np.unique(df.Name.map(extract_title))\n",
    "all_titles"
   ]
  },
  {
   "cell_type": "markdown",
   "metadata": {},
   "source": [
    "18 different titles, and some of them mean the same thing. Let's simplify it a bit:"
   ]
  },
  {
   "cell_type": "code",
   "execution_count": 17,
   "metadata": {
    "ExecuteTime": {
     "end_time": "2016-09-07T21:06:10.003415",
     "start_time": "2016-09-07T21:06:09.988414"
    },
    "collapsed": false
   },
   "outputs": [],
   "source": [
    "titles = {\n",
    "    \"Capt\":        \"Officer\", \n",
    "    \"Col\":         \"Officer\",\n",
    "    \"Major\":       \"Officer\", \n",
    "    \"Dr\":          \"Officer\",\n",
    "    \"Rev\":         \"Officer\",\n",
    "    \"Jonkheer\":    \"Mr\", \n",
    "    \"Don\":         \"Mr\", \n",
    "    \"Sir\" :        \"Mr\", \n",
    "    \"Mr\" :         \"Mr\",\n",
    "    \"Mlle\":        \"Miss\",\n",
    "    \"Miss\" :       \"Miss\",\n",
    "    \"the Countess\":\"Miss\",\n",
    "    \"Dona\":        \"Miss\", \n",
    "    \"Lady\" :       \"Mrs\",     \n",
    "    \"Mme\":         \"Mrs\",\n",
    "    \"Mrs\" :        \"Mrs\",\n",
    "    \"Ms\":          \"Mrs\",\n",
    "    \"Master\" :     \"Master\",\n",
    "} \n",
    "\n",
    "df['title'] = df.Name.map(lambda x: titles[extract_title(x)])"
   ]
  },
  {
   "cell_type": "code",
   "execution_count": 18,
   "metadata": {
    "ExecuteTime": {
     "end_time": "2016-09-07T21:06:10.037417",
     "start_time": "2016-09-07T21:06:10.004415"
    },
    "collapsed": false
   },
   "outputs": [
    {
     "data": {
      "text/html": [
       "<div>\n",
       "<table border=\"1\" class=\"dataframe\">\n",
       "  <thead>\n",
       "    <tr>\n",
       "      <th></th>\n",
       "      <th colspan=\"3\" halign=\"left\">Pclass</th>\n",
       "    </tr>\n",
       "    <tr>\n",
       "      <th>Sex</th>\n",
       "      <th>female</th>\n",
       "      <th>male</th>\n",
       "      <th>All</th>\n",
       "    </tr>\n",
       "    <tr>\n",
       "      <th>title</th>\n",
       "      <th></th>\n",
       "      <th></th>\n",
       "      <th></th>\n",
       "    </tr>\n",
       "  </thead>\n",
       "  <tbody>\n",
       "    <tr>\n",
       "      <th>Master</th>\n",
       "      <td>NaN</td>\n",
       "      <td>61.0</td>\n",
       "      <td>61.0</td>\n",
       "    </tr>\n",
       "    <tr>\n",
       "      <th>Miss</th>\n",
       "      <td>264.0</td>\n",
       "      <td>NaN</td>\n",
       "      <td>264.0</td>\n",
       "    </tr>\n",
       "    <tr>\n",
       "      <th>Mr</th>\n",
       "      <td>NaN</td>\n",
       "      <td>760.0</td>\n",
       "      <td>760.0</td>\n",
       "    </tr>\n",
       "    <tr>\n",
       "      <th>Mrs</th>\n",
       "      <td>201.0</td>\n",
       "      <td>NaN</td>\n",
       "      <td>201.0</td>\n",
       "    </tr>\n",
       "    <tr>\n",
       "      <th>Officer</th>\n",
       "      <td>1.0</td>\n",
       "      <td>22.0</td>\n",
       "      <td>23.0</td>\n",
       "    </tr>\n",
       "    <tr>\n",
       "      <th>All</th>\n",
       "      <td>466.0</td>\n",
       "      <td>843.0</td>\n",
       "      <td>1309.0</td>\n",
       "    </tr>\n",
       "  </tbody>\n",
       "</table>\n",
       "</div>"
      ],
      "text/plain": [
       "        Pclass               \n",
       "Sex     female   male     All\n",
       "title                        \n",
       "Master     NaN   61.0    61.0\n",
       "Miss     264.0    NaN   264.0\n",
       "Mr         NaN  760.0   760.0\n",
       "Mrs      201.0    NaN   201.0\n",
       "Officer    1.0   22.0    23.0\n",
       "All      466.0  843.0  1309.0"
      ]
     },
     "execution_count": 18,
     "metadata": {},
     "output_type": "execute_result"
    }
   ],
   "source": [
    "df.pivot_table(values=['Pclass'], index=['title'], columns=['Sex'], \n",
    "               margins=True, aggfunc='count')"
   ]
  },
  {
   "cell_type": "markdown",
   "metadata": {},
   "source": [
    "We'll move the only female officer to `Miss` so each title class will contain only one sex."
   ]
  },
  {
   "cell_type": "code",
   "execution_count": 19,
   "metadata": {
    "ExecuteTime": {
     "end_time": "2016-09-07T21:06:10.043417",
     "start_time": "2016-09-07T21:06:10.038417"
    },
    "collapsed": false
   },
   "outputs": [],
   "source": [
    "df.loc[(df.title == 'Officer') & (df.Sex == 'female'), 'title'] = 'Miss'"
   ]
  },
  {
   "cell_type": "markdown",
   "metadata": {},
   "source": [
    "Some kids have title 'Mr', but based on their age they should have a 'Master' title. Let's change that."
   ]
  },
  {
   "cell_type": "code",
   "execution_count": 20,
   "metadata": {
    "ExecuteTime": {
     "end_time": "2016-09-07T21:06:10.049418",
     "start_time": "2016-09-07T21:06:10.044417"
    },
    "collapsed": false
   },
   "outputs": [
    {
     "data": {
      "text/plain": [
       "14.5"
      ]
     },
     "execution_count": 20,
     "metadata": {},
     "output_type": "execute_result"
    }
   ],
   "source": [
    "# the oldest master\n",
    "df.loc[(df.title == 'Master'), 'Age'].max()"
   ]
  },
  {
   "cell_type": "code",
   "execution_count": 21,
   "metadata": {
    "ExecuteTime": {
     "end_time": "2016-09-07T21:06:10.055418",
     "start_time": "2016-09-07T21:06:10.050418"
    },
    "collapsed": false,
    "scrolled": true
   },
   "outputs": [],
   "source": [
    "df.loc[(df.title == 'Mr') & (df.Age <= 14.5), 'title'] = 'Master'"
   ]
  },
  {
   "cell_type": "code",
   "execution_count": 22,
   "metadata": {
    "ExecuteTime": {
     "end_time": "2016-09-07T21:06:10.087420",
     "start_time": "2016-09-07T21:06:10.056418"
    },
    "collapsed": false
   },
   "outputs": [
    {
     "data": {
      "text/html": [
       "<div>\n",
       "<table border=\"1\" class=\"dataframe\">\n",
       "  <thead>\n",
       "    <tr>\n",
       "      <th></th>\n",
       "      <th colspan=\"3\" halign=\"left\">Pclass</th>\n",
       "    </tr>\n",
       "    <tr>\n",
       "      <th>Sex</th>\n",
       "      <th>female</th>\n",
       "      <th>male</th>\n",
       "      <th>All</th>\n",
       "    </tr>\n",
       "    <tr>\n",
       "      <th>title</th>\n",
       "      <th></th>\n",
       "      <th></th>\n",
       "      <th></th>\n",
       "    </tr>\n",
       "  </thead>\n",
       "  <tbody>\n",
       "    <tr>\n",
       "      <th>Master</th>\n",
       "      <td>NaN</td>\n",
       "      <td>66.0</td>\n",
       "      <td>66.0</td>\n",
       "    </tr>\n",
       "    <tr>\n",
       "      <th>Miss</th>\n",
       "      <td>265.0</td>\n",
       "      <td>NaN</td>\n",
       "      <td>265.0</td>\n",
       "    </tr>\n",
       "    <tr>\n",
       "      <th>Mr</th>\n",
       "      <td>NaN</td>\n",
       "      <td>755.0</td>\n",
       "      <td>755.0</td>\n",
       "    </tr>\n",
       "    <tr>\n",
       "      <th>Mrs</th>\n",
       "      <td>201.0</td>\n",
       "      <td>NaN</td>\n",
       "      <td>201.0</td>\n",
       "    </tr>\n",
       "    <tr>\n",
       "      <th>Officer</th>\n",
       "      <td>NaN</td>\n",
       "      <td>22.0</td>\n",
       "      <td>22.0</td>\n",
       "    </tr>\n",
       "    <tr>\n",
       "      <th>All</th>\n",
       "      <td>466.0</td>\n",
       "      <td>843.0</td>\n",
       "      <td>1309.0</td>\n",
       "    </tr>\n",
       "  </tbody>\n",
       "</table>\n",
       "</div>"
      ],
      "text/plain": [
       "        Pclass               \n",
       "Sex     female   male     All\n",
       "title                        \n",
       "Master     NaN   66.0    66.0\n",
       "Miss     265.0    NaN   265.0\n",
       "Mr         NaN  755.0   755.0\n",
       "Mrs      201.0    NaN   201.0\n",
       "Officer    NaN   22.0    22.0\n",
       "All      466.0  843.0  1309.0"
      ]
     },
     "execution_count": 22,
     "metadata": {},
     "output_type": "execute_result"
    }
   ],
   "source": [
    "df.pivot_table(values=['Pclass'], index=['title'], columns=['Sex'], margins=True, aggfunc='count')"
   ]
  },
  {
   "cell_type": "markdown",
   "metadata": {},
   "source": [
    "### Age\n",
    "\n",
    "There are lots of missing values, so we'll calculate a mean and standard deviation for each group of passengers. A group of passengers are people with the same sex, travelling class, and title.  \n",
    "People with missing age values will get a value that is within one standard deviation from the mean of their group defined above."
   ]
  },
  {
   "cell_type": "code",
   "execution_count": 23,
   "metadata": {
    "ExecuteTime": {
     "end_time": "2016-09-07T21:06:10.110421",
     "start_time": "2016-09-07T21:06:10.088420"
    },
    "collapsed": false
   },
   "outputs": [
    {
     "data": {
      "text/html": [
       "<div>\n",
       "<table border=\"1\" class=\"dataframe\">\n",
       "  <thead>\n",
       "    <tr>\n",
       "      <th>Sex</th>\n",
       "      <th colspan=\"3\" halign=\"left\">female</th>\n",
       "      <th colspan=\"3\" halign=\"left\">male</th>\n",
       "    </tr>\n",
       "    <tr>\n",
       "      <th>Pclass</th>\n",
       "      <th>1</th>\n",
       "      <th>2</th>\n",
       "      <th>3</th>\n",
       "      <th>1</th>\n",
       "      <th>2</th>\n",
       "      <th>3</th>\n",
       "    </tr>\n",
       "    <tr>\n",
       "      <th>title</th>\n",
       "      <th></th>\n",
       "      <th></th>\n",
       "      <th></th>\n",
       "      <th></th>\n",
       "      <th></th>\n",
       "      <th></th>\n",
       "    </tr>\n",
       "  </thead>\n",
       "  <tbody>\n",
       "    <tr>\n",
       "      <th>Master</th>\n",
       "      <td>NaN</td>\n",
       "      <td>NaN</td>\n",
       "      <td>NaN</td>\n",
       "      <td>6.984000</td>\n",
       "      <td>3.694167</td>\n",
       "      <td>6.788537</td>\n",
       "    </tr>\n",
       "    <tr>\n",
       "      <th>Miss</th>\n",
       "      <td>30.609375</td>\n",
       "      <td>20.717083</td>\n",
       "      <td>17.360874</td>\n",
       "      <td>NaN</td>\n",
       "      <td>NaN</td>\n",
       "      <td>NaN</td>\n",
       "    </tr>\n",
       "    <tr>\n",
       "      <th>Mr</th>\n",
       "      <td>NaN</td>\n",
       "      <td>NaN</td>\n",
       "      <td>NaN</td>\n",
       "      <td>41.470370</td>\n",
       "      <td>32.481618</td>\n",
       "      <td>28.514610</td>\n",
       "    </tr>\n",
       "    <tr>\n",
       "      <th>Mrs</th>\n",
       "      <td>43.000000</td>\n",
       "      <td>33.418182</td>\n",
       "      <td>32.326531</td>\n",
       "      <td>NaN</td>\n",
       "      <td>NaN</td>\n",
       "      <td>NaN</td>\n",
       "    </tr>\n",
       "    <tr>\n",
       "      <th>Officer</th>\n",
       "      <td>NaN</td>\n",
       "      <td>NaN</td>\n",
       "      <td>NaN</td>\n",
       "      <td>51.090909</td>\n",
       "      <td>40.700000</td>\n",
       "      <td>NaN</td>\n",
       "    </tr>\n",
       "  </tbody>\n",
       "</table>\n",
       "</div>"
      ],
      "text/plain": [
       "Sex         female                             male                      \n",
       "Pclass           1          2          3          1          2          3\n",
       "title                                                                    \n",
       "Master         NaN        NaN        NaN   6.984000   3.694167   6.788537\n",
       "Miss     30.609375  20.717083  17.360874        NaN        NaN        NaN\n",
       "Mr             NaN        NaN        NaN  41.470370  32.481618  28.514610\n",
       "Mrs      43.000000  33.418182  32.326531        NaN        NaN        NaN\n",
       "Officer        NaN        NaN        NaN  51.090909  40.700000        NaN"
      ]
     },
     "execution_count": 23,
     "metadata": {},
     "output_type": "execute_result"
    }
   ],
   "source": [
    "ages_mean = df.pivot_table('Age', index=['title'], columns=['Sex', 'Pclass'], aggfunc='mean')\n",
    "ages_mean"
   ]
  },
  {
   "cell_type": "code",
   "execution_count": 24,
   "metadata": {
    "ExecuteTime": {
     "end_time": "2016-09-07T21:06:10.132422",
     "start_time": "2016-09-07T21:06:10.111421"
    },
    "collapsed": false
   },
   "outputs": [
    {
     "data": {
      "text/html": [
       "<div>\n",
       "<table border=\"1\" class=\"dataframe\">\n",
       "  <thead>\n",
       "    <tr>\n",
       "      <th>Sex</th>\n",
       "      <th colspan=\"3\" halign=\"left\">female</th>\n",
       "      <th colspan=\"3\" halign=\"left\">male</th>\n",
       "    </tr>\n",
       "    <tr>\n",
       "      <th>Pclass</th>\n",
       "      <th>1</th>\n",
       "      <th>2</th>\n",
       "      <th>3</th>\n",
       "      <th>1</th>\n",
       "      <th>2</th>\n",
       "      <th>3</th>\n",
       "    </tr>\n",
       "    <tr>\n",
       "      <th>title</th>\n",
       "      <th></th>\n",
       "      <th></th>\n",
       "      <th></th>\n",
       "      <th></th>\n",
       "      <th></th>\n",
       "      <th></th>\n",
       "    </tr>\n",
       "  </thead>\n",
       "  <tbody>\n",
       "    <tr>\n",
       "      <th>Master</th>\n",
       "      <td>NaN</td>\n",
       "      <td>NaN</td>\n",
       "      <td>NaN</td>\n",
       "      <td>4.974061</td>\n",
       "      <td>4.156750</td>\n",
       "      <td>4.507170</td>\n",
       "    </tr>\n",
       "    <tr>\n",
       "      <th>Miss</th>\n",
       "      <td>11.549228</td>\n",
       "      <td>12.207963</td>\n",
       "      <td>9.935434</td>\n",
       "      <td>NaN</td>\n",
       "      <td>NaN</td>\n",
       "      <td>NaN</td>\n",
       "    </tr>\n",
       "    <tr>\n",
       "      <th>Mr</th>\n",
       "      <td>NaN</td>\n",
       "      <td>NaN</td>\n",
       "      <td>NaN</td>\n",
       "      <td>13.357004</td>\n",
       "      <td>11.799938</td>\n",
       "      <td>9.819658</td>\n",
       "    </tr>\n",
       "    <tr>\n",
       "      <th>Mrs</th>\n",
       "      <td>14.031477</td>\n",
       "      <td>10.422005</td>\n",
       "      <td>10.194745</td>\n",
       "      <td>NaN</td>\n",
       "      <td>NaN</td>\n",
       "      <td>NaN</td>\n",
       "    </tr>\n",
       "    <tr>\n",
       "      <th>Officer</th>\n",
       "      <td>NaN</td>\n",
       "      <td>NaN</td>\n",
       "      <td>NaN</td>\n",
       "      <td>9.689732</td>\n",
       "      <td>12.927576</td>\n",
       "      <td>NaN</td>\n",
       "    </tr>\n",
       "  </tbody>\n",
       "</table>\n",
       "</div>"
      ],
      "text/plain": [
       "Sex         female                             male                     \n",
       "Pclass           1          2          3          1          2         3\n",
       "title                                                                   \n",
       "Master         NaN        NaN        NaN   4.974061   4.156750  4.507170\n",
       "Miss     11.549228  12.207963   9.935434        NaN        NaN       NaN\n",
       "Mr             NaN        NaN        NaN  13.357004  11.799938  9.819658\n",
       "Mrs      14.031477  10.422005  10.194745        NaN        NaN       NaN\n",
       "Officer        NaN        NaN        NaN   9.689732  12.927576       NaN"
      ]
     },
     "execution_count": 24,
     "metadata": {},
     "output_type": "execute_result"
    }
   ],
   "source": [
    "ages_std = df.pivot_table('Age', index=['title'], columns=['Sex', 'Pclass'], aggfunc='std')\n",
    "ages_std"
   ]
  },
  {
   "cell_type": "code",
   "execution_count": 25,
   "metadata": {
    "ExecuteTime": {
     "end_time": "2016-09-07T21:06:11.931525",
     "start_time": "2016-09-07T21:06:10.133423"
    },
    "collapsed": false
   },
   "outputs": [],
   "source": [
    "def age_guesser(person):\n",
    "    gender = person['Sex']\n",
    "    mean_age = ages_mean[gender].loc[person['title'], person['Pclass']]\n",
    "    std = ages_std[gender].loc[person['title'], person['Pclass']]\n",
    "    persons_age = np.random.randint(mean_age - std, mean_age + std)\n",
    "    return persons_age\n",
    "\n",
    "unknown_age = df['Age'].isnull()\n",
    "df['new_age'] = df.Age.copy()\n",
    "\n",
    "df.loc[unknown_age, 'new_age'] = df.apply(age_guesser, axis=1)"
   ]
  },
  {
   "cell_type": "markdown",
   "metadata": {},
   "source": [
    "Let's compare age densities before and after filling the values."
   ]
  },
  {
   "cell_type": "code",
   "execution_count": 26,
   "metadata": {
    "ExecuteTime": {
     "end_time": "2016-09-07T21:06:12.574562",
     "start_time": "2016-09-07T21:06:11.932525"
    },
    "collapsed": false
   },
   "outputs": [
    {
     "data": {
      "image/png": "[encoded data removed]",
      "text/plain": [
       "<matplotlib.figure.Figure at 0xa606c50>"
      ]
     },
     "metadata": {},
     "output_type": "display_data"
    }
   ],
   "source": [
    "fig, (ax1, ax2) = plt.subplots(2, 1, figsize=(11,9))\n",
    "\n",
    "for pclass in [1, 2, 3]:\n",
    "    df[df['Pclass'] == pclass]['Age'].plot.kde(ax=ax1)\n",
    "    df[df['Pclass'] == pclass]['new_age'].plot.kde(ax=ax2)\n",
    "\n",
    "    \n",
    "fig.suptitle('Age Density by Passenger Class', size=16, weight='bold')\n",
    "\n",
    "_ = (ax1.set_xlabel('Age - before filling missing values'),\n",
    "     ax2.set_xlabel('Age - after filling missing values')\n",
    "    )\n",
    "     \n",
    "for ax in [ax1, ax2]:\n",
    "    ax.set_xlim(-10, 90)\n",
    "    ax.set_ylim(0, 0.05)\n",
    "    ax.legend(('1st Class', '2nd Class', '3rd Class'))"
   ]
  },
  {
   "cell_type": "markdown",
   "metadata": {},
   "source": [
    "### Family\n",
    "\n",
    "New column `family` will have the total number of close family members on board (`Parch` and `SibSp`)."
   ]
  },
  {
   "cell_type": "code",
   "execution_count": 27,
   "metadata": {
    "ExecuteTime": {
     "end_time": "2016-09-07T21:06:13.156595",
     "start_time": "2016-09-07T21:06:12.575562"
    },
    "collapsed": false
   },
   "outputs": [
    {
     "data": {
      "image/png": "[encoded data removed]",
      "text/plain": [
       "<matplotlib.figure.Figure at 0xa6074a8>"
      ]
     },
     "metadata": {},
     "output_type": "display_data"
    }
   ],
   "source": [
    "df['family'] = df.Parch + df.SibSp\n",
    "\n",
    "ax = sns.barplot(x='family', y='Survived', data=df)\n",
    "_ = (ax.set_title('Survival Rate by Family Size'),\n",
    "     ax.set_xlabel('Family Size')\n",
    ")"
   ]
  },
  {
   "cell_type": "markdown",
   "metadata": {},
   "source": [
    "In column `known_people`, we'll divide passengers in four groups:\n",
    "- 0 - no family or friend\n",
    "- 1 - no family, but has friends on board (people on the same ticket)\n",
    "- 2 - small family (1-3 members)\n",
    "- 3 - large family (4+ members)"
   ]
  },
  {
   "cell_type": "code",
   "execution_count": 28,
   "metadata": {
    "ExecuteTime": {
     "end_time": "2016-09-07T21:06:14.456670",
     "start_time": "2016-09-07T21:06:13.157596"
    },
    "collapsed": false
   },
   "outputs": [
    {
     "data": {
      "image/png": "[encoded data removed]",
      "text/plain": [
       "<matplotlib.figure.Figure at 0xb19fd68>"
      ]
     },
     "metadata": {},
     "output_type": "display_data"
    }
   ],
   "source": [
    "def family_size(family):\n",
    "    if family > 3:\n",
    "        return 3\n",
    "    elif family >= 1:\n",
    "        return 2\n",
    "    else:\n",
    "        return 0\n",
    "    \n",
    "def find_companions(ticket):\n",
    "    return int(df.loc[df.Ticket == ticket].shape[0] > 1)\n",
    "\n",
    "df['known_people'] = df.family.map(family_size)\n",
    "df.loc[df.family == 0, 'known_people'] = df.loc[df.family == 0, 'Ticket'].map(find_companions)    \n",
    "\n",
    "\n",
    "ax = sns.barplot(x='Sex', y='Survived', hue='known_people', data=df)\n",
    "_ = (ax.set_title('Survival Rate by Friends and Family'),\n",
    "     ax.set_xlabel('Sex')\n",
    ")"
   ]
  },
  {
   "cell_type": "markdown",
   "metadata": {},
   "source": [
    "Survival rates of males without family is almost the same regardless of having friends on board or not. Males with small families have the highest chances for survival.  \n",
    "Females without family but with some friend had the highest chances for survival, followed by females with small families and females without any companion.  \n",
    "Survival rates for both sexes are very low if they had large family."
   ]
  },
  {
   "cell_type": "markdown",
   "metadata": {},
   "source": [
    "### Mothers\n",
    "\n",
    "Married women (`Mrs`) who had children (`Parch > 0`) with them on the ship."
   ]
  },
  {
   "cell_type": "code",
   "execution_count": 29,
   "metadata": {
    "ExecuteTime": {
     "end_time": "2016-09-07T21:06:14.461670",
     "start_time": "2016-09-07T21:06:14.457670"
    },
    "collapsed": false
   },
   "outputs": [],
   "source": [
    "df['mother'] = ((df.title == 'Mrs') & (df.Parch > 0)).astype(int)"
   ]
  },
  {
   "cell_type": "markdown",
   "metadata": {},
   "source": [
    "### Some family survived\n",
    "\n",
    "We'll create a new column `family_survived` which will have three values:\n",
    "\n",
    "* 1 - some family member or friend survived\n",
    "* 0 - no family members or friends survived\n",
    "* -1 - doesn't have family members or friends on the ship"
   ]
  },
  {
   "cell_type": "code",
   "execution_count": 30,
   "metadata": {
    "ExecuteTime": {
     "end_time": "2016-09-07T21:06:15.018702",
     "start_time": "2016-09-07T21:06:14.462670"
    },
    "collapsed": false
   },
   "outputs": [
    {
     "data": {
      "image/png": "[encoded data removed]",
      "text/plain": [
       "<matplotlib.figure.Figure at 0xb4259b0>"
      ]
     },
     "metadata": {},
     "output_type": "display_data"
    }
   ],
   "source": [
    "family_survived = df.Survived.groupby([df.last_name, df.family]).sum()\n",
    "friend_survived = df.Survived.groupby(df.Ticket).sum()\n",
    "\n",
    "def some_family_survived(person):\n",
    "    if person.family > 0:\n",
    "        if person.source == 'train':\n",
    "            return ((family_survived[person.last_name, person.family] - person.Survived) > 0).astype(int)\n",
    "        else:\n",
    "            return (family_survived[person.last_name, person.family] > 0).astype(int)\n",
    "    else:\n",
    "        if person.source == 'train':\n",
    "            return ((friend_survived[person.Ticket] - person.Survived) > 0).astype(int)\n",
    "        else:\n",
    "            return (friend_survived[person.Ticket] > 0).astype(int)\n",
    "\n",
    "df['family_survived'] = -1\n",
    "df.loc[df.known_people > 0, 'family_survived'] = df[df.known_people > 0].apply(some_family_survived, axis=1)\n",
    "\n",
    "\n",
    "ax = sns.barplot(data=df, x='family_survived', y='Survived', \n",
    "                 hue='Sex', hue_order=['female', 'male'])\n",
    "_ = (ax.set_title('Survival Rate by Family Members Survived and Sex'))"
   ]
  },
  {
   "cell_type": "markdown",
   "metadata": {},
   "source": [
    "Both sexes had highest chances for survival if some member of their family or friend had survived. People whose close friends had died had lowest chances for survival."
   ]
  },
  {
   "cell_type": "markdown",
   "metadata": {},
   "source": [
    "### Fare\n",
    "\n",
    "If more than one person is on the same ticket, their fare is calculated as sum of  their individual ticket prices. A better indicator would be `fare_per_person`."
   ]
  },
  {
   "cell_type": "code",
   "execution_count": 31,
   "metadata": {
    "ExecuteTime": {
     "end_time": "2016-09-07T21:06:17.130823",
     "start_time": "2016-09-07T21:06:15.019702"
    },
    "collapsed": false
   },
   "outputs": [
    {
     "data": {
      "text/plain": [
       "<matplotlib.text.Text at 0xab73630>"
      ]
     },
     "execution_count": 31,
     "metadata": {},
     "output_type": "execute_result"
    },
    {
     "data": {
      "image/png": "[encoded data removed]",
      "text/plain": [
       "<matplotlib.figure.Figure at 0xa60d128>"
      ]
     },
     "metadata": {},
     "output_type": "display_data"
    }
   ],
   "source": [
    "def fare_per_person(person):\n",
    "    nr_on_same_ticket = df.loc[df.Ticket == person.Ticket, 'Ticket'].value_counts()[0]\n",
    "    return person.Fare / nr_on_same_ticket\n",
    "\n",
    "df['fare_per_person'] = df.apply(fare_per_person, axis=1)\n",
    "\n",
    "\n",
    "fig, (ax1, ax2) = plt.subplots(2, 1, figsize=(11,10))\n",
    "\n",
    "sns.boxplot(x=df.Fare, y=df.Pclass, orient='h', ax=ax1)\n",
    "sns.boxplot(x=df.fare_per_person, y=df.Pclass, orient='h', ax=ax2)\n",
    "fig.suptitle('Comparison Between \"Fare\" and \"Fare Per Person\"')"
   ]
  },
  {
   "cell_type": "markdown",
   "metadata": {},
   "source": [
    "`fare per person` already looks like a better indicator than `Fare`, but it has lots of outliers - let's try to clean it."
   ]
  },
  {
   "cell_type": "markdown",
   "metadata": {},
   "source": [
    "#### Cleaning outliers"
   ]
  },
  {
   "cell_type": "markdown",
   "metadata": {},
   "source": [
    "##### Third class"
   ]
  },
  {
   "cell_type": "code",
   "execution_count": 32,
   "metadata": {
    "ExecuteTime": {
     "end_time": "2016-09-07T21:06:17.133823",
     "start_time": "2016-09-07T21:06:17.131823"
    },
    "collapsed": true
   },
   "outputs": [],
   "source": [
    "columns = ['Name', 'Embarked', 'new_age', 'Fare', 'Ticket', 'fare_per_person']"
   ]
  },
  {
   "cell_type": "code",
   "execution_count": 33,
   "metadata": {
    "ExecuteTime": {
     "end_time": "2016-09-07T21:06:17.161825",
     "start_time": "2016-09-07T21:06:17.134823"
    },
    "collapsed": false
   },
   "outputs": [
    {
     "data": {
      "text/plain": [
       "count    709.000000\n",
       "mean       7.330162\n",
       "std        1.470572\n",
       "min        0.000000\n",
       "25%        7.061975\n",
       "50%        7.750000\n",
       "75%        7.925000\n",
       "max       19.966700\n",
       "Name: fare_per_person, dtype: float64"
      ]
     },
     "execution_count": 33,
     "metadata": {},
     "output_type": "execute_result"
    }
   ],
   "source": [
    "df.loc[df.Pclass == 3, 'fare_per_person'].describe()"
   ]
  },
  {
   "cell_type": "code",
   "execution_count": 34,
   "metadata": {
    "ExecuteTime": {
     "end_time": "2016-09-07T21:06:17.177825",
     "start_time": "2016-09-07T21:06:17.162825"
    },
    "collapsed": false
   },
   "outputs": [
    {
     "data": {
      "text/html": [
       "<div>\n",
       "<table border=\"1\" class=\"dataframe\">\n",
       "  <thead>\n",
       "    <tr style=\"text-align: right;\">\n",
       "      <th></th>\n",
       "      <th>Name</th>\n",
       "      <th>Embarked</th>\n",
       "      <th>new_age</th>\n",
       "      <th>Fare</th>\n",
       "      <th>Ticket</th>\n",
       "      <th>fare_per_person</th>\n",
       "    </tr>\n",
       "    <tr>\n",
       "      <th>PassengerId</th>\n",
       "      <th></th>\n",
       "      <th></th>\n",
       "      <th></th>\n",
       "      <th></th>\n",
       "      <th></th>\n",
       "      <th></th>\n",
       "    </tr>\n",
       "  </thead>\n",
       "  <tbody>\n",
       "    <tr>\n",
       "      <th>180</th>\n",
       "      <td>Leonard, Mr. Lionel</td>\n",
       "      <td>S</td>\n",
       "      <td>36.0</td>\n",
       "      <td>0.0</td>\n",
       "      <td>LINE</td>\n",
       "      <td>0.0</td>\n",
       "    </tr>\n",
       "    <tr>\n",
       "      <th>272</th>\n",
       "      <td>Tornquist, Mr. William Henry</td>\n",
       "      <td>S</td>\n",
       "      <td>25.0</td>\n",
       "      <td>0.0</td>\n",
       "      <td>LINE</td>\n",
       "      <td>0.0</td>\n",
       "    </tr>\n",
       "    <tr>\n",
       "      <th>303</th>\n",
       "      <td>Johnson, Mr. William Cahoone Jr</td>\n",
       "      <td>S</td>\n",
       "      <td>19.0</td>\n",
       "      <td>0.0</td>\n",
       "      <td>LINE</td>\n",
       "      <td>0.0</td>\n",
       "    </tr>\n",
       "    <tr>\n",
       "      <th>598</th>\n",
       "      <td>Johnson, Mr. Alfred</td>\n",
       "      <td>S</td>\n",
       "      <td>49.0</td>\n",
       "      <td>0.0</td>\n",
       "      <td>LINE</td>\n",
       "      <td>0.0</td>\n",
       "    </tr>\n",
       "  </tbody>\n",
       "</table>\n",
       "</div>"
      ],
      "text/plain": [
       "                                        Name Embarked  new_age  Fare Ticket  \\\n",
       "PassengerId                                                                   \n",
       "180                      Leonard, Mr. Lionel        S     36.0   0.0   LINE   \n",
       "272             Tornquist, Mr. William Henry        S     25.0   0.0   LINE   \n",
       "303          Johnson, Mr. William Cahoone Jr        S     19.0   0.0   LINE   \n",
       "598                      Johnson, Mr. Alfred        S     49.0   0.0   LINE   \n",
       "\n",
       "             fare_per_person  \n",
       "PassengerId                   \n",
       "180                      0.0  \n",
       "272                      0.0  \n",
       "303                      0.0  \n",
       "598                      0.0  "
      ]
     },
     "execution_count": 34,
     "metadata": {},
     "output_type": "execute_result"
    }
   ],
   "source": [
    "df.loc[(df.Pclass == 3) & (df.fare_per_person == 0), columns]"
   ]
  },
  {
   "cell_type": "code",
   "execution_count": 35,
   "metadata": {
    "ExecuteTime": {
     "end_time": "2016-09-07T21:06:17.187826",
     "start_time": "2016-09-07T21:06:17.178826"
    },
    "collapsed": false
   },
   "outputs": [],
   "source": [
    "df.loc[(df.Pclass == 3) & (df.fare_per_person == 0), 'fare_per_person'] = np.nan\n",
    "\n",
    "# replace zero values with median for their class and port of embarkment\n",
    "med = df.loc[(df.Pclass == 3) & (df.Embarked == 'S'), 'fare_per_person'].median()\n",
    "df.loc[(df.Pclass == 3) & (df.fare_per_person.isnull()), 'fare_per_person'] = med"
   ]
  },
  {
   "cell_type": "code",
   "execution_count": 36,
   "metadata": {
    "ExecuteTime": {
     "end_time": "2016-09-07T21:06:17.202827",
     "start_time": "2016-09-07T21:06:17.188826"
    },
    "collapsed": false
   },
   "outputs": [
    {
     "data": {
      "text/html": [
       "<div>\n",
       "<table border=\"1\" class=\"dataframe\">\n",
       "  <thead>\n",
       "    <tr style=\"text-align: right;\">\n",
       "      <th></th>\n",
       "      <th>Name</th>\n",
       "      <th>Embarked</th>\n",
       "      <th>new_age</th>\n",
       "      <th>Fare</th>\n",
       "      <th>Ticket</th>\n",
       "      <th>fare_per_person</th>\n",
       "    </tr>\n",
       "    <tr>\n",
       "      <th>PassengerId</th>\n",
       "      <th></th>\n",
       "      <th></th>\n",
       "      <th></th>\n",
       "      <th></th>\n",
       "      <th></th>\n",
       "      <th></th>\n",
       "    </tr>\n",
       "  </thead>\n",
       "  <tbody>\n",
       "    <tr>\n",
       "      <th>452</th>\n",
       "      <td>Hagland, Mr. Ingvald Olai Olsen</td>\n",
       "      <td>S</td>\n",
       "      <td>26.0</td>\n",
       "      <td>19.9667</td>\n",
       "      <td>65303</td>\n",
       "      <td>19.9667</td>\n",
       "    </tr>\n",
       "    <tr>\n",
       "      <th>491</th>\n",
       "      <td>Hagland, Mr. Konrad Mathias Reiersen</td>\n",
       "      <td>S</td>\n",
       "      <td>19.0</td>\n",
       "      <td>19.9667</td>\n",
       "      <td>65304</td>\n",
       "      <td>19.9667</td>\n",
       "    </tr>\n",
       "  </tbody>\n",
       "</table>\n",
       "</div>"
      ],
      "text/plain": [
       "                                             Name Embarked  new_age     Fare  \\\n",
       "PassengerId                                                                    \n",
       "452               Hagland, Mr. Ingvald Olai Olsen        S     26.0  19.9667   \n",
       "491          Hagland, Mr. Konrad Mathias Reiersen        S     19.0  19.9667   \n",
       "\n",
       "            Ticket  fare_per_person  \n",
       "PassengerId                          \n",
       "452          65303          19.9667  \n",
       "491          65304          19.9667  "
      ]
     },
     "execution_count": 36,
     "metadata": {},
     "output_type": "execute_result"
    }
   ],
   "source": [
    "df.loc[(df.Pclass == 3) & (df.fare_per_person > 12), columns]"
   ]
  },
  {
   "cell_type": "code",
   "execution_count": 37,
   "metadata": {
    "ExecuteTime": {
     "end_time": "2016-09-07T21:06:17.209827",
     "start_time": "2016-09-07T21:06:17.203827"
    },
    "collapsed": true
   },
   "outputs": [],
   "source": [
    "# their ticket number differs in just last number, treat it as a same ticket\n",
    "df.loc[(df.Pclass == 3) & (df.fare_per_person > 12), 'fare_per_person'] = df.fare_per_person / 2"
   ]
  },
  {
   "cell_type": "code",
   "execution_count": 38,
   "metadata": {
    "ExecuteTime": {
     "end_time": "2016-09-07T21:06:17.228828",
     "start_time": "2016-09-07T21:06:17.210827"
    },
    "collapsed": false
   },
   "outputs": [
    {
     "data": {
      "text/html": [
       "<div>\n",
       "<table border=\"1\" class=\"dataframe\">\n",
       "  <thead>\n",
       "    <tr style=\"text-align: right;\">\n",
       "      <th></th>\n",
       "      <th>Name</th>\n",
       "      <th>Embarked</th>\n",
       "      <th>new_age</th>\n",
       "      <th>Fare</th>\n",
       "      <th>Ticket</th>\n",
       "      <th>fare_per_person</th>\n",
       "    </tr>\n",
       "    <tr>\n",
       "      <th>PassengerId</th>\n",
       "      <th></th>\n",
       "      <th></th>\n",
       "      <th></th>\n",
       "      <th></th>\n",
       "      <th></th>\n",
       "      <th></th>\n",
       "    </tr>\n",
       "  </thead>\n",
       "  <tbody>\n",
       "    <tr>\n",
       "      <th>688</th>\n",
       "      <td>Dakic, Mr. Branko</td>\n",
       "      <td>S</td>\n",
       "      <td>19.0</td>\n",
       "      <td>10.1708</td>\n",
       "      <td>349228</td>\n",
       "      <td>10.1708</td>\n",
       "    </tr>\n",
       "    <tr>\n",
       "      <th>484</th>\n",
       "      <td>Turkula, Mrs. (Hedwig)</td>\n",
       "      <td>S</td>\n",
       "      <td>63.0</td>\n",
       "      <td>9.5875</td>\n",
       "      <td>4134</td>\n",
       "      <td>9.5875</td>\n",
       "    </tr>\n",
       "    <tr>\n",
       "      <th>504</th>\n",
       "      <td>Laitinen, Miss. Kristina Sofia</td>\n",
       "      <td>S</td>\n",
       "      <td>37.0</td>\n",
       "      <td>9.5875</td>\n",
       "      <td>4135</td>\n",
       "      <td>9.5875</td>\n",
       "    </tr>\n",
       "    <tr>\n",
       "      <th>114</th>\n",
       "      <td>Jussila, Miss. Katriina</td>\n",
       "      <td>S</td>\n",
       "      <td>20.0</td>\n",
       "      <td>9.8250</td>\n",
       "      <td>4136</td>\n",
       "      <td>9.8250</td>\n",
       "    </tr>\n",
       "    <tr>\n",
       "      <th>403</th>\n",
       "      <td>Jussila, Miss. Mari Aina</td>\n",
       "      <td>S</td>\n",
       "      <td>21.0</td>\n",
       "      <td>9.8250</td>\n",
       "      <td>4137</td>\n",
       "      <td>9.8250</td>\n",
       "    </tr>\n",
       "    <tr>\n",
       "      <th>678</th>\n",
       "      <td>Turja, Miss. Anna Sofia</td>\n",
       "      <td>S</td>\n",
       "      <td>18.0</td>\n",
       "      <td>9.8417</td>\n",
       "      <td>4138</td>\n",
       "      <td>9.8417</td>\n",
       "    </tr>\n",
       "    <tr>\n",
       "      <th>883</th>\n",
       "      <td>Dahlberg, Miss. Gerda Ulrika</td>\n",
       "      <td>S</td>\n",
       "      <td>22.0</td>\n",
       "      <td>10.5167</td>\n",
       "      <td>7552</td>\n",
       "      <td>10.5167</td>\n",
       "    </tr>\n",
       "    <tr>\n",
       "      <th>475</th>\n",
       "      <td>Strandberg, Miss. Ida Sofia</td>\n",
       "      <td>S</td>\n",
       "      <td>22.0</td>\n",
       "      <td>9.8375</td>\n",
       "      <td>7553</td>\n",
       "      <td>9.8375</td>\n",
       "    </tr>\n",
       "  </tbody>\n",
       "</table>\n",
       "</div>"
      ],
      "text/plain": [
       "                                       Name Embarked  new_age     Fare  \\\n",
       "PassengerId                                                              \n",
       "688                       Dakic, Mr. Branko        S     19.0  10.1708   \n",
       "484                  Turkula, Mrs. (Hedwig)        S     63.0   9.5875   \n",
       "504          Laitinen, Miss. Kristina Sofia        S     37.0   9.5875   \n",
       "114                 Jussila, Miss. Katriina        S     20.0   9.8250   \n",
       "403                Jussila, Miss. Mari Aina        S     21.0   9.8250   \n",
       "678                 Turja, Miss. Anna Sofia        S     18.0   9.8417   \n",
       "883            Dahlberg, Miss. Gerda Ulrika        S     22.0  10.5167   \n",
       "475             Strandberg, Miss. Ida Sofia        S     22.0   9.8375   \n",
       "\n",
       "             Ticket  fare_per_person  \n",
       "PassengerId                           \n",
       "688          349228          10.1708  \n",
       "484            4134           9.5875  \n",
       "504            4135           9.5875  \n",
       "114            4136           9.8250  \n",
       "403            4137           9.8250  \n",
       "678            4138           9.8417  \n",
       "883            7552          10.5167  \n",
       "475            7553           9.8375  "
      ]
     },
     "execution_count": 38,
     "metadata": {},
     "output_type": "execute_result"
    }
   ],
   "source": [
    "df.loc[(df.Pclass == 3) & (df.fare_per_person > 9.5) & (df.fare_per_person == df.Fare), columns].sort_values(by='Ticket')"
   ]
  },
  {
   "cell_type": "code",
   "execution_count": 39,
   "metadata": {
    "ExecuteTime": {
     "end_time": "2016-09-07T21:06:17.236829",
     "start_time": "2016-09-07T21:06:17.229828"
    },
    "collapsed": false
   },
   "outputs": [],
   "source": [
    "# sisters?\n",
    "df.loc[(df.Pclass == 3) & (df.fare_per_person > 9.5) & (df.last_name == 'Jussila'), 'fare_per_person'] = df.fare_per_person / 2"
   ]
  },
  {
   "cell_type": "code",
   "execution_count": 40,
   "metadata": {
    "ExecuteTime": {
     "end_time": "2016-09-07T21:06:17.253830",
     "start_time": "2016-09-07T21:06:17.237829"
    },
    "collapsed": false
   },
   "outputs": [
    {
     "data": {
      "text/html": [
       "<div>\n",
       "<table border=\"1\" class=\"dataframe\">\n",
       "  <thead>\n",
       "    <tr style=\"text-align: right;\">\n",
       "      <th></th>\n",
       "      <th>Name</th>\n",
       "      <th>Embarked</th>\n",
       "      <th>new_age</th>\n",
       "      <th>Fare</th>\n",
       "      <th>Ticket</th>\n",
       "      <th>fare_per_person</th>\n",
       "    </tr>\n",
       "    <tr>\n",
       "      <th>PassengerId</th>\n",
       "      <th></th>\n",
       "      <th></th>\n",
       "      <th></th>\n",
       "      <th></th>\n",
       "      <th></th>\n",
       "      <th></th>\n",
       "    </tr>\n",
       "  </thead>\n",
       "  <tbody>\n",
       "    <tr>\n",
       "      <th>9</th>\n",
       "      <td>Johnson, Mrs. Oscar W (Elisabeth Vilhelmina Berg)</td>\n",
       "      <td>S</td>\n",
       "      <td>27.0</td>\n",
       "      <td>11.1333</td>\n",
       "      <td>347742</td>\n",
       "      <td>3.7111</td>\n",
       "    </tr>\n",
       "    <tr>\n",
       "      <th>173</th>\n",
       "      <td>Johnson, Miss. Eleanor Ileen</td>\n",
       "      <td>S</td>\n",
       "      <td>1.0</td>\n",
       "      <td>11.1333</td>\n",
       "      <td>347742</td>\n",
       "      <td>3.7111</td>\n",
       "    </tr>\n",
       "    <tr>\n",
       "      <th>870</th>\n",
       "      <td>Johnson, Master. Harold Theodor</td>\n",
       "      <td>S</td>\n",
       "      <td>4.0</td>\n",
       "      <td>11.1333</td>\n",
       "      <td>347742</td>\n",
       "      <td>3.7111</td>\n",
       "    </tr>\n",
       "    <tr>\n",
       "      <th>913</th>\n",
       "      <td>Olsen, Master. Artur Karl</td>\n",
       "      <td>S</td>\n",
       "      <td>9.0</td>\n",
       "      <td>3.1708</td>\n",
       "      <td>C 17368</td>\n",
       "      <td>3.1708</td>\n",
       "    </tr>\n",
       "  </tbody>\n",
       "</table>\n",
       "</div>"
      ],
      "text/plain": [
       "                                                          Name Embarked  \\\n",
       "PassengerId                                                               \n",
       "9            Johnson, Mrs. Oscar W (Elisabeth Vilhelmina Berg)        S   \n",
       "173                               Johnson, Miss. Eleanor Ileen        S   \n",
       "870                            Johnson, Master. Harold Theodor        S   \n",
       "913                                  Olsen, Master. Artur Karl        S   \n",
       "\n",
       "             new_age     Fare   Ticket  fare_per_person  \n",
       "PassengerId                                              \n",
       "9               27.0  11.1333   347742           3.7111  \n",
       "173              1.0  11.1333   347742           3.7111  \n",
       "870              4.0  11.1333   347742           3.7111  \n",
       "913              9.0   3.1708  C 17368           3.1708  "
      ]
     },
     "execution_count": 40,
     "metadata": {},
     "output_type": "execute_result"
    }
   ],
   "source": [
    "df.loc[(df.Pclass == 3) & (df.fare_per_person < 4), columns].sort_values(by='Ticket')"
   ]
  },
  {
   "cell_type": "markdown",
   "metadata": {},
   "source": [
    "No other obvious outliers in third class, based on the ticket and last name."
   ]
  },
  {
   "cell_type": "markdown",
   "metadata": {},
   "source": [
    "##### Second class"
   ]
  },
  {
   "cell_type": "code",
   "execution_count": 41,
   "metadata": {
    "ExecuteTime": {
     "end_time": "2016-09-07T21:06:17.269831",
     "start_time": "2016-09-07T21:06:17.254830"
    },
    "collapsed": false
   },
   "outputs": [
    {
     "data": {
      "text/plain": [
       "count    277.00000\n",
       "mean      11.41101\n",
       "std        2.63293\n",
       "min        0.00000\n",
       "25%       10.50000\n",
       "50%       12.35000\n",
       "75%       13.00000\n",
       "max       16.00000\n",
       "Name: fare_per_person, dtype: float64"
      ]
     },
     "execution_count": 41,
     "metadata": {},
     "output_type": "execute_result"
    }
   ],
   "source": [
    "df.loc[df.Pclass == 2, 'fare_per_person'].describe()"
   ]
  },
  {
   "cell_type": "code",
   "execution_count": 42,
   "metadata": {
    "ExecuteTime": {
     "end_time": "2016-09-07T21:06:17.285832",
     "start_time": "2016-09-07T21:06:17.270831"
    },
    "collapsed": false
   },
   "outputs": [
    {
     "data": {
      "text/html": [
       "<div>\n",
       "<table border=\"1\" class=\"dataframe\">\n",
       "  <thead>\n",
       "    <tr style=\"text-align: right;\">\n",
       "      <th></th>\n",
       "      <th>Name</th>\n",
       "      <th>Embarked</th>\n",
       "      <th>new_age</th>\n",
       "      <th>Fare</th>\n",
       "      <th>Ticket</th>\n",
       "      <th>fare_per_person</th>\n",
       "    </tr>\n",
       "    <tr>\n",
       "      <th>PassengerId</th>\n",
       "      <th></th>\n",
       "      <th></th>\n",
       "      <th></th>\n",
       "      <th></th>\n",
       "      <th></th>\n",
       "      <th></th>\n",
       "    </tr>\n",
       "  </thead>\n",
       "  <tbody>\n",
       "    <tr>\n",
       "      <th>278</th>\n",
       "      <td>Parkes, Mr. Francis \"Frank\"</td>\n",
       "      <td>S</td>\n",
       "      <td>42.0</td>\n",
       "      <td>0.0</td>\n",
       "      <td>239853</td>\n",
       "      <td>0.0</td>\n",
       "    </tr>\n",
       "    <tr>\n",
       "      <th>414</th>\n",
       "      <td>Cunningham, Mr. Alfred Fleming</td>\n",
       "      <td>S</td>\n",
       "      <td>32.0</td>\n",
       "      <td>0.0</td>\n",
       "      <td>239853</td>\n",
       "      <td>0.0</td>\n",
       "    </tr>\n",
       "    <tr>\n",
       "      <th>467</th>\n",
       "      <td>Campbell, Mr. William</td>\n",
       "      <td>S</td>\n",
       "      <td>29.0</td>\n",
       "      <td>0.0</td>\n",
       "      <td>239853</td>\n",
       "      <td>0.0</td>\n",
       "    </tr>\n",
       "    <tr>\n",
       "      <th>482</th>\n",
       "      <td>Frost, Mr. Anthony Wood \"Archie\"</td>\n",
       "      <td>S</td>\n",
       "      <td>23.0</td>\n",
       "      <td>0.0</td>\n",
       "      <td>239854</td>\n",
       "      <td>0.0</td>\n",
       "    </tr>\n",
       "    <tr>\n",
       "      <th>675</th>\n",
       "      <td>Watson, Mr. Ennis Hastings</td>\n",
       "      <td>S</td>\n",
       "      <td>20.0</td>\n",
       "      <td>0.0</td>\n",
       "      <td>239856</td>\n",
       "      <td>0.0</td>\n",
       "    </tr>\n",
       "    <tr>\n",
       "      <th>733</th>\n",
       "      <td>Knight, Mr. Robert J</td>\n",
       "      <td>S</td>\n",
       "      <td>31.0</td>\n",
       "      <td>0.0</td>\n",
       "      <td>239855</td>\n",
       "      <td>0.0</td>\n",
       "    </tr>\n",
       "  </tbody>\n",
       "</table>\n",
       "</div>"
      ],
      "text/plain": [
       "                                         Name Embarked  new_age  Fare  Ticket  \\\n",
       "PassengerId                                                                     \n",
       "278               Parkes, Mr. Francis \"Frank\"        S     42.0   0.0  239853   \n",
       "414            Cunningham, Mr. Alfred Fleming        S     32.0   0.0  239853   \n",
       "467                     Campbell, Mr. William        S     29.0   0.0  239853   \n",
       "482          Frost, Mr. Anthony Wood \"Archie\"        S     23.0   0.0  239854   \n",
       "675                Watson, Mr. Ennis Hastings        S     20.0   0.0  239856   \n",
       "733                      Knight, Mr. Robert J        S     31.0   0.0  239855   \n",
       "\n",
       "             fare_per_person  \n",
       "PassengerId                   \n",
       "278                      0.0  \n",
       "414                      0.0  \n",
       "467                      0.0  \n",
       "482                      0.0  \n",
       "675                      0.0  \n",
       "733                      0.0  "
      ]
     },
     "execution_count": 42,
     "metadata": {},
     "output_type": "execute_result"
    }
   ],
   "source": [
    "df.loc[(df.Pclass == 2) & (df.fare_per_person == 0), columns]"
   ]
  },
  {
   "cell_type": "code",
   "execution_count": 43,
   "metadata": {
    "ExecuteTime": {
     "end_time": "2016-09-07T21:06:17.295832",
     "start_time": "2016-09-07T21:06:17.286832"
    },
    "collapsed": false
   },
   "outputs": [],
   "source": [
    "df.loc[(df.Pclass == 2) & (df.fare_per_person == 0), 'fare_per_person'] = np.nan\n",
    "\n",
    "# replace zero values with median for their class and port of embarkment\n",
    "med = df.loc[(df.Pclass == 2) & (df.Embarked == 'S'), 'fare_per_person'].median()\n",
    "df.loc[(df.Pclass == 2) & (df.fare_per_person.isnull()), 'fare_per_person'] = med"
   ]
  },
  {
   "cell_type": "code",
   "execution_count": 44,
   "metadata": {
    "ExecuteTime": {
     "end_time": "2016-09-07T21:06:17.320834",
     "start_time": "2016-09-07T21:06:17.296832"
    },
    "collapsed": false
   },
   "outputs": [
    {
     "data": {
      "text/html": [
       "<div>\n",
       "<table border=\"1\" class=\"dataframe\">\n",
       "  <thead>\n",
       "    <tr style=\"text-align: right;\">\n",
       "      <th></th>\n",
       "      <th>Name</th>\n",
       "      <th>Embarked</th>\n",
       "      <th>new_age</th>\n",
       "      <th>Fare</th>\n",
       "      <th>Ticket</th>\n",
       "      <th>fare_per_person</th>\n",
       "    </tr>\n",
       "    <tr>\n",
       "      <th>PassengerId</th>\n",
       "      <th></th>\n",
       "      <th></th>\n",
       "      <th></th>\n",
       "      <th></th>\n",
       "      <th></th>\n",
       "      <th></th>\n",
       "    </tr>\n",
       "  </thead>\n",
       "  <tbody>\n",
       "    <tr>\n",
       "      <th>563</th>\n",
       "      <td>Norman, Mr. Robert Douglas</td>\n",
       "      <td>S</td>\n",
       "      <td>28.0</td>\n",
       "      <td>13.5000</td>\n",
       "      <td>218629</td>\n",
       "      <td>13.5000</td>\n",
       "    </tr>\n",
       "    <tr>\n",
       "      <th>1054</th>\n",
       "      <td>Wright, Miss. Marion</td>\n",
       "      <td>S</td>\n",
       "      <td>26.0</td>\n",
       "      <td>13.5000</td>\n",
       "      <td>220844</td>\n",
       "      <td>13.5000</td>\n",
       "    </tr>\n",
       "    <tr>\n",
       "      <th>707</th>\n",
       "      <td>Kelly, Mrs. Florence \"Fannie\"</td>\n",
       "      <td>S</td>\n",
       "      <td>45.0</td>\n",
       "      <td>13.5000</td>\n",
       "      <td>223596</td>\n",
       "      <td>13.5000</td>\n",
       "    </tr>\n",
       "    <tr>\n",
       "      <th>953</th>\n",
       "      <td>McCrae, Mr. Arthur Gordon</td>\n",
       "      <td>S</td>\n",
       "      <td>32.0</td>\n",
       "      <td>13.5000</td>\n",
       "      <td>237216</td>\n",
       "      <td>13.5000</td>\n",
       "    </tr>\n",
       "    <tr>\n",
       "      <th>233</th>\n",
       "      <td>Sjostedt, Mr. Ernst Adolf</td>\n",
       "      <td>S</td>\n",
       "      <td>59.0</td>\n",
       "      <td>13.5000</td>\n",
       "      <td>237442</td>\n",
       "      <td>13.5000</td>\n",
       "    </tr>\n",
       "    <tr>\n",
       "      <th>587</th>\n",
       "      <td>Jarvis, Mr. John Denzil</td>\n",
       "      <td>S</td>\n",
       "      <td>47.0</td>\n",
       "      <td>15.0000</td>\n",
       "      <td>237565</td>\n",
       "      <td>15.0000</td>\n",
       "    </tr>\n",
       "    <tr>\n",
       "      <th>1002</th>\n",
       "      <td>Stanton, Mr. Samuel Ward</td>\n",
       "      <td>C</td>\n",
       "      <td>41.0</td>\n",
       "      <td>15.0458</td>\n",
       "      <td>237734</td>\n",
       "      <td>15.0458</td>\n",
       "    </tr>\n",
       "    <tr>\n",
       "      <th>1193</th>\n",
       "      <td>Malachard, Mr. Noel</td>\n",
       "      <td>C</td>\n",
       "      <td>29.0</td>\n",
       "      <td>15.0458</td>\n",
       "      <td>237735</td>\n",
       "      <td>15.0458</td>\n",
       "    </tr>\n",
       "    <tr>\n",
       "      <th>1077</th>\n",
       "      <td>Maybery, Mr. Frank Hubert</td>\n",
       "      <td>S</td>\n",
       "      <td>40.0</td>\n",
       "      <td>16.0000</td>\n",
       "      <td>239059</td>\n",
       "      <td>16.0000</td>\n",
       "    </tr>\n",
       "    <tr>\n",
       "      <th>16</th>\n",
       "      <td>Hewlett, Mrs. (Mary D Kingcome)</td>\n",
       "      <td>S</td>\n",
       "      <td>55.0</td>\n",
       "      <td>16.0000</td>\n",
       "      <td>248706</td>\n",
       "      <td>16.0000</td>\n",
       "    </tr>\n",
       "    <tr>\n",
       "      <th>1240</th>\n",
       "      <td>Giles, Mr. Ralph</td>\n",
       "      <td>S</td>\n",
       "      <td>24.0</td>\n",
       "      <td>13.5000</td>\n",
       "      <td>248726</td>\n",
       "      <td>13.5000</td>\n",
       "    </tr>\n",
       "    <tr>\n",
       "      <th>696</th>\n",
       "      <td>Chapman, Mr. Charles Henry</td>\n",
       "      <td>S</td>\n",
       "      <td>52.0</td>\n",
       "      <td>13.5000</td>\n",
       "      <td>248731</td>\n",
       "      <td>13.5000</td>\n",
       "    </tr>\n",
       "    <tr>\n",
       "      <th>318</th>\n",
       "      <td>Moraweck, Dr. Ernest</td>\n",
       "      <td>S</td>\n",
       "      <td>54.0</td>\n",
       "      <td>14.0000</td>\n",
       "      <td>29011</td>\n",
       "      <td>14.0000</td>\n",
       "    </tr>\n",
       "    <tr>\n",
       "      <th>946</th>\n",
       "      <td>Mangiavacchi, Mr. Serafino Emilio</td>\n",
       "      <td>C</td>\n",
       "      <td>24.0</td>\n",
       "      <td>15.5792</td>\n",
       "      <td>SC/A.3 2861</td>\n",
       "      <td>15.5792</td>\n",
       "    </tr>\n",
       "    <tr>\n",
       "      <th>474</th>\n",
       "      <td>Jerwan, Mrs. Amin S (Marie Marthe Thuillard)</td>\n",
       "      <td>C</td>\n",
       "      <td>23.0</td>\n",
       "      <td>13.7917</td>\n",
       "      <td>SC/AH Basle 541</td>\n",
       "      <td>13.7917</td>\n",
       "    </tr>\n",
       "    <tr>\n",
       "      <th>182</th>\n",
       "      <td>Pernot, Mr. Rene</td>\n",
       "      <td>C</td>\n",
       "      <td>22.0</td>\n",
       "      <td>15.0500</td>\n",
       "      <td>SC/PARIS 2131</td>\n",
       "      <td>15.0500</td>\n",
       "    </tr>\n",
       "    <tr>\n",
       "      <th>136</th>\n",
       "      <td>Richard, Mr. Emile</td>\n",
       "      <td>C</td>\n",
       "      <td>23.0</td>\n",
       "      <td>15.0458</td>\n",
       "      <td>SC/PARIS 2133</td>\n",
       "      <td>15.0458</td>\n",
       "    </tr>\n",
       "    <tr>\n",
       "      <th>548</th>\n",
       "      <td>Padro y Manent, Mr. Julian</td>\n",
       "      <td>C</td>\n",
       "      <td>29.0</td>\n",
       "      <td>13.8625</td>\n",
       "      <td>SC/PARIS 2146</td>\n",
       "      <td>13.8625</td>\n",
       "    </tr>\n",
       "    <tr>\n",
       "      <th>1261</th>\n",
       "      <td>Pallas y Castello, Mr. Emilio</td>\n",
       "      <td>C</td>\n",
       "      <td>29.0</td>\n",
       "      <td>13.8583</td>\n",
       "      <td>SC/PARIS 2147</td>\n",
       "      <td>13.8583</td>\n",
       "    </tr>\n",
       "    <tr>\n",
       "      <th>1112</th>\n",
       "      <td>Duran y More, Miss. Florentina</td>\n",
       "      <td>C</td>\n",
       "      <td>30.0</td>\n",
       "      <td>13.8583</td>\n",
       "      <td>SC/PARIS 2148</td>\n",
       "      <td>13.8583</td>\n",
       "    </tr>\n",
       "    <tr>\n",
       "      <th>867</th>\n",
       "      <td>Duran y More, Miss. Asuncion</td>\n",
       "      <td>C</td>\n",
       "      <td>27.0</td>\n",
       "      <td>13.8583</td>\n",
       "      <td>SC/PARIS 2149</td>\n",
       "      <td>13.8583</td>\n",
       "    </tr>\n",
       "    <tr>\n",
       "      <th>1297</th>\n",
       "      <td>Nourney, Mr. Alfred (Baron von Drachstedt\")\"</td>\n",
       "      <td>C</td>\n",
       "      <td>20.0</td>\n",
       "      <td>13.8625</td>\n",
       "      <td>SC/PARIS 2166</td>\n",
       "      <td>13.8625</td>\n",
       "    </tr>\n",
       "    <tr>\n",
       "      <th>943</th>\n",
       "      <td>Pulbaum, Mr. Franz</td>\n",
       "      <td>C</td>\n",
       "      <td>27.0</td>\n",
       "      <td>15.0333</td>\n",
       "      <td>SC/PARIS 2168</td>\n",
       "      <td>15.0333</td>\n",
       "    </tr>\n",
       "  </tbody>\n",
       "</table>\n",
       "</div>"
      ],
      "text/plain": [
       "                                                     Name Embarked  new_age  \\\n",
       "PassengerId                                                                   \n",
       "563                            Norman, Mr. Robert Douglas        S     28.0   \n",
       "1054                                 Wright, Miss. Marion        S     26.0   \n",
       "707                         Kelly, Mrs. Florence \"Fannie\"        S     45.0   \n",
       "953                             McCrae, Mr. Arthur Gordon        S     32.0   \n",
       "233                             Sjostedt, Mr. Ernst Adolf        S     59.0   \n",
       "587                               Jarvis, Mr. John Denzil        S     47.0   \n",
       "1002                             Stanton, Mr. Samuel Ward        C     41.0   \n",
       "1193                                  Malachard, Mr. Noel        C     29.0   \n",
       "1077                            Maybery, Mr. Frank Hubert        S     40.0   \n",
       "16                       Hewlett, Mrs. (Mary D Kingcome)         S     55.0   \n",
       "1240                                     Giles, Mr. Ralph        S     24.0   \n",
       "696                            Chapman, Mr. Charles Henry        S     52.0   \n",
       "318                                  Moraweck, Dr. Ernest        S     54.0   \n",
       "946                     Mangiavacchi, Mr. Serafino Emilio        C     24.0   \n",
       "474          Jerwan, Mrs. Amin S (Marie Marthe Thuillard)        C     23.0   \n",
       "182                                      Pernot, Mr. Rene        C     22.0   \n",
       "136                                    Richard, Mr. Emile        C     23.0   \n",
       "548                            Padro y Manent, Mr. Julian        C     29.0   \n",
       "1261                        Pallas y Castello, Mr. Emilio        C     29.0   \n",
       "1112                       Duran y More, Miss. Florentina        C     30.0   \n",
       "867                          Duran y More, Miss. Asuncion        C     27.0   \n",
       "1297         Nourney, Mr. Alfred (Baron von Drachstedt\")\"        C     20.0   \n",
       "943                                    Pulbaum, Mr. Franz        C     27.0   \n",
       "\n",
       "                Fare           Ticket  fare_per_person  \n",
       "PassengerId                                             \n",
       "563          13.5000           218629          13.5000  \n",
       "1054         13.5000           220844          13.5000  \n",
       "707          13.5000           223596          13.5000  \n",
       "953          13.5000           237216          13.5000  \n",
       "233          13.5000           237442          13.5000  \n",
       "587          15.0000           237565          15.0000  \n",
       "1002         15.0458           237734          15.0458  \n",
       "1193         15.0458           237735          15.0458  \n",
       "1077         16.0000           239059          16.0000  \n",
       "16           16.0000           248706          16.0000  \n",
       "1240         13.5000           248726          13.5000  \n",
       "696          13.5000           248731          13.5000  \n",
       "318          14.0000            29011          14.0000  \n",
       "946          15.5792      SC/A.3 2861          15.5792  \n",
       "474          13.7917  SC/AH Basle 541          13.7917  \n",
       "182          15.0500    SC/PARIS 2131          15.0500  \n",
       "136          15.0458    SC/PARIS 2133          15.0458  \n",
       "548          13.8625    SC/PARIS 2146          13.8625  \n",
       "1261         13.8583    SC/PARIS 2147          13.8583  \n",
       "1112         13.8583    SC/PARIS 2148          13.8583  \n",
       "867          13.8583    SC/PARIS 2149          13.8583  \n",
       "1297         13.8625    SC/PARIS 2166          13.8625  \n",
       "943          15.0333    SC/PARIS 2168          15.0333  "
      ]
     },
     "execution_count": 44,
     "metadata": {},
     "output_type": "execute_result"
    }
   ],
   "source": [
    "df.loc[(df.Pclass == 2) & (df.fare_per_person > 13) & (df.fare_per_person == df.Fare), columns].sort_values(by='Ticket')"
   ]
  },
  {
   "cell_type": "code",
   "execution_count": 45,
   "metadata": {
    "ExecuteTime": {
     "end_time": "2016-09-07T21:06:17.327834",
     "start_time": "2016-09-07T21:06:17.321834"
    },
    "collapsed": false
   },
   "outputs": [],
   "source": [
    "df.loc[(df.Pclass == 2) & (df.last_name == 'Duran y More'), 'fare_per_person'] = df.fare_per_person / 2"
   ]
  },
  {
   "cell_type": "code",
   "execution_count": 46,
   "metadata": {
    "ExecuteTime": {
     "end_time": "2016-09-07T21:06:17.343835",
     "start_time": "2016-09-07T21:06:17.328834"
    },
    "collapsed": false
   },
   "outputs": [
    {
     "data": {
      "text/html": [
       "<div>\n",
       "<table border=\"1\" class=\"dataframe\">\n",
       "  <thead>\n",
       "    <tr style=\"text-align: right;\">\n",
       "      <th></th>\n",
       "      <th>Name</th>\n",
       "      <th>Embarked</th>\n",
       "      <th>new_age</th>\n",
       "      <th>Fare</th>\n",
       "      <th>Ticket</th>\n",
       "      <th>fare_per_person</th>\n",
       "    </tr>\n",
       "    <tr>\n",
       "      <th>PassengerId</th>\n",
       "      <th></th>\n",
       "      <th></th>\n",
       "      <th></th>\n",
       "      <th></th>\n",
       "      <th></th>\n",
       "      <th></th>\n",
       "    </tr>\n",
       "  </thead>\n",
       "  <tbody>\n",
       "    <tr>\n",
       "      <th>894</th>\n",
       "      <td>Myles, Mr. Thomas Francis</td>\n",
       "      <td>Q</td>\n",
       "      <td>62.0</td>\n",
       "      <td>9.6875</td>\n",
       "      <td>240276</td>\n",
       "      <td>9.6875</td>\n",
       "    </tr>\n",
       "  </tbody>\n",
       "</table>\n",
       "</div>"
      ],
      "text/plain": [
       "                                  Name Embarked  new_age    Fare  Ticket  \\\n",
       "PassengerId                                                                \n",
       "894          Myles, Mr. Thomas Francis        Q     62.0  9.6875  240276   \n",
       "\n",
       "             fare_per_person  \n",
       "PassengerId                   \n",
       "894                   9.6875  "
      ]
     },
     "execution_count": 46,
     "metadata": {},
     "output_type": "execute_result"
    }
   ],
   "source": [
    "df.loc[(df.Pclass == 2) & (df.fare_per_person < 10.5) & (df.fare_per_person == df.Fare), columns].sort_values(by='Ticket')"
   ]
  },
  {
   "cell_type": "markdown",
   "metadata": {},
   "source": [
    "No other obvious outliers in third class, based on the ticket and last name."
   ]
  },
  {
   "cell_type": "markdown",
   "metadata": {},
   "source": [
    "##### First class"
   ]
  },
  {
   "cell_type": "code",
   "execution_count": 47,
   "metadata": {
    "ExecuteTime": {
     "end_time": "2016-09-07T21:06:17.360836",
     "start_time": "2016-09-07T21:06:17.344835"
    },
    "collapsed": false
   },
   "outputs": [
    {
     "data": {
      "text/plain": [
       "count    323.000000\n",
       "mean      33.910500\n",
       "std       15.369762\n",
       "min        0.000000\n",
       "25%       26.550000\n",
       "50%       29.700000\n",
       "75%       38.643750\n",
       "max      128.082300\n",
       "Name: fare_per_person, dtype: float64"
      ]
     },
     "execution_count": 47,
     "metadata": {},
     "output_type": "execute_result"
    }
   ],
   "source": [
    "df.loc[df.Pclass == 1, 'fare_per_person'].describe()"
   ]
  },
  {
   "cell_type": "code",
   "execution_count": 48,
   "metadata": {
    "ExecuteTime": {
     "end_time": "2016-09-07T21:06:17.377837",
     "start_time": "2016-09-07T21:06:17.361836"
    },
    "collapsed": false
   },
   "outputs": [
    {
     "data": {
      "text/html": [
       "<div>\n",
       "<table border=\"1\" class=\"dataframe\">\n",
       "  <thead>\n",
       "    <tr style=\"text-align: right;\">\n",
       "      <th></th>\n",
       "      <th>Name</th>\n",
       "      <th>Embarked</th>\n",
       "      <th>new_age</th>\n",
       "      <th>Fare</th>\n",
       "      <th>Ticket</th>\n",
       "      <th>fare_per_person</th>\n",
       "    </tr>\n",
       "    <tr>\n",
       "      <th>PassengerId</th>\n",
       "      <th></th>\n",
       "      <th></th>\n",
       "      <th></th>\n",
       "      <th></th>\n",
       "      <th></th>\n",
       "      <th></th>\n",
       "    </tr>\n",
       "  </thead>\n",
       "  <tbody>\n",
       "    <tr>\n",
       "      <th>264</th>\n",
       "      <td>Harrison, Mr. William</td>\n",
       "      <td>S</td>\n",
       "      <td>40.0</td>\n",
       "      <td>0.0</td>\n",
       "      <td>112059</td>\n",
       "      <td>0.0</td>\n",
       "    </tr>\n",
       "    <tr>\n",
       "      <th>634</th>\n",
       "      <td>Parr, Mr. William Henry Marsh</td>\n",
       "      <td>S</td>\n",
       "      <td>29.0</td>\n",
       "      <td>0.0</td>\n",
       "      <td>112052</td>\n",
       "      <td>0.0</td>\n",
       "    </tr>\n",
       "    <tr>\n",
       "      <th>807</th>\n",
       "      <td>Andrews, Mr. Thomas Jr</td>\n",
       "      <td>S</td>\n",
       "      <td>39.0</td>\n",
       "      <td>0.0</td>\n",
       "      <td>112050</td>\n",
       "      <td>0.0</td>\n",
       "    </tr>\n",
       "    <tr>\n",
       "      <th>816</th>\n",
       "      <td>Fry, Mr. Richard</td>\n",
       "      <td>S</td>\n",
       "      <td>40.0</td>\n",
       "      <td>0.0</td>\n",
       "      <td>112058</td>\n",
       "      <td>0.0</td>\n",
       "    </tr>\n",
       "    <tr>\n",
       "      <th>823</th>\n",
       "      <td>Reuchlin, Jonkheer. John George</td>\n",
       "      <td>S</td>\n",
       "      <td>38.0</td>\n",
       "      <td>0.0</td>\n",
       "      <td>19972</td>\n",
       "      <td>0.0</td>\n",
       "    </tr>\n",
       "    <tr>\n",
       "      <th>1158</th>\n",
       "      <td>Chisholm, Mr. Roderick Robert Crispin</td>\n",
       "      <td>S</td>\n",
       "      <td>52.0</td>\n",
       "      <td>0.0</td>\n",
       "      <td>112051</td>\n",
       "      <td>0.0</td>\n",
       "    </tr>\n",
       "    <tr>\n",
       "      <th>1264</th>\n",
       "      <td>Ismay, Mr. Joseph Bruce</td>\n",
       "      <td>S</td>\n",
       "      <td>49.0</td>\n",
       "      <td>0.0</td>\n",
       "      <td>112058</td>\n",
       "      <td>0.0</td>\n",
       "    </tr>\n",
       "  </tbody>\n",
       "</table>\n",
       "</div>"
      ],
      "text/plain": [
       "                                              Name Embarked  new_age  Fare  \\\n",
       "PassengerId                                                                  \n",
       "264                          Harrison, Mr. William        S     40.0   0.0   \n",
       "634                  Parr, Mr. William Henry Marsh        S     29.0   0.0   \n",
       "807                         Andrews, Mr. Thomas Jr        S     39.0   0.0   \n",
       "816                               Fry, Mr. Richard        S     40.0   0.0   \n",
       "823                Reuchlin, Jonkheer. John George        S     38.0   0.0   \n",
       "1158         Chisholm, Mr. Roderick Robert Crispin        S     52.0   0.0   \n",
       "1264                       Ismay, Mr. Joseph Bruce        S     49.0   0.0   \n",
       "\n",
       "             Ticket  fare_per_person  \n",
       "PassengerId                           \n",
       "264          112059              0.0  \n",
       "634          112052              0.0  \n",
       "807          112050              0.0  \n",
       "816          112058              0.0  \n",
       "823           19972              0.0  \n",
       "1158         112051              0.0  \n",
       "1264         112058              0.0  "
      ]
     },
     "execution_count": 48,
     "metadata": {},
     "output_type": "execute_result"
    }
   ],
   "source": [
    "df.loc[(df.Pclass == 1) & (df.fare_per_person == 0), columns]"
   ]
  },
  {
   "cell_type": "code",
   "execution_count": 49,
   "metadata": {
    "ExecuteTime": {
     "end_time": "2016-09-07T21:06:17.402838",
     "start_time": "2016-09-07T21:06:17.378837"
    },
    "collapsed": false
   },
   "outputs": [
    {
     "data": {
      "text/plain": [
       "count    323.000000\n",
       "mean      34.485887\n",
       "std       14.562862\n",
       "min        5.000000\n",
       "25%       26.550000\n",
       "50%       29.700000\n",
       "75%       38.643750\n",
       "max      128.082300\n",
       "Name: fare_per_person, dtype: float64"
      ]
     },
     "execution_count": 49,
     "metadata": {},
     "output_type": "execute_result"
    }
   ],
   "source": [
    "df.loc[(df.Pclass == 1) & (df.fare_per_person == 0), 'fare_per_person'] = np.nan\n",
    "\n",
    "# replace zero values with median for their class and port of embarkment\n",
    "med = df.loc[(df.Pclass == 1) & (df.Embarked == 'S'), 'fare_per_person'].median()\n",
    "df.loc[(df.Pclass == 1) & (df.fare_per_person.isnull()), 'fare_per_person'] = med\n",
    "\n",
    "df.loc[df.Pclass == 1, 'fare_per_person'].describe()"
   ]
  },
  {
   "cell_type": "code",
   "execution_count": 50,
   "metadata": {
    "ExecuteTime": {
     "end_time": "2016-09-07T21:06:17.419839",
     "start_time": "2016-09-07T21:06:17.403838"
    },
    "collapsed": false
   },
   "outputs": [
    {
     "data": {
      "text/html": [
       "<div>\n",
       "<table border=\"1\" class=\"dataframe\">\n",
       "  <thead>\n",
       "    <tr style=\"text-align: right;\">\n",
       "      <th></th>\n",
       "      <th>Name</th>\n",
       "      <th>Embarked</th>\n",
       "      <th>new_age</th>\n",
       "      <th>Fare</th>\n",
       "      <th>Ticket</th>\n",
       "      <th>fare_per_person</th>\n",
       "    </tr>\n",
       "    <tr>\n",
       "      <th>PassengerId</th>\n",
       "      <th></th>\n",
       "      <th></th>\n",
       "      <th></th>\n",
       "      <th></th>\n",
       "      <th></th>\n",
       "      <th></th>\n",
       "    </tr>\n",
       "  </thead>\n",
       "  <tbody>\n",
       "    <tr>\n",
       "      <th>271</th>\n",
       "      <td>Cairns, Mr. Alexander</td>\n",
       "      <td>S</td>\n",
       "      <td>47.0</td>\n",
       "      <td>31.0</td>\n",
       "      <td>113798</td>\n",
       "      <td>15.5</td>\n",
       "    </tr>\n",
       "    <tr>\n",
       "      <th>843</th>\n",
       "      <td>Serepeca, Miss. Augusta</td>\n",
       "      <td>C</td>\n",
       "      <td>30.0</td>\n",
       "      <td>31.0</td>\n",
       "      <td>113798</td>\n",
       "      <td>15.5</td>\n",
       "    </tr>\n",
       "    <tr>\n",
       "      <th>873</th>\n",
       "      <td>Carlsson, Mr. Frans Olof</td>\n",
       "      <td>S</td>\n",
       "      <td>33.0</td>\n",
       "      <td>5.0</td>\n",
       "      <td>695</td>\n",
       "      <td>5.0</td>\n",
       "    </tr>\n",
       "    <tr>\n",
       "      <th>854</th>\n",
       "      <td>Lines, Miss. Mary Conover</td>\n",
       "      <td>S</td>\n",
       "      <td>16.0</td>\n",
       "      <td>39.4</td>\n",
       "      <td>PC 17592</td>\n",
       "      <td>19.7</td>\n",
       "    </tr>\n",
       "    <tr>\n",
       "      <th>1283</th>\n",
       "      <td>Lines, Mrs. Ernest H (Elizabeth Lindsey James)</td>\n",
       "      <td>S</td>\n",
       "      <td>51.0</td>\n",
       "      <td>39.4</td>\n",
       "      <td>PC 17592</td>\n",
       "      <td>19.7</td>\n",
       "    </tr>\n",
       "  </tbody>\n",
       "</table>\n",
       "</div>"
      ],
      "text/plain": [
       "                                                       Name Embarked  new_age  \\\n",
       "PassengerId                                                                     \n",
       "271                                   Cairns, Mr. Alexander        S     47.0   \n",
       "843                                 Serepeca, Miss. Augusta        C     30.0   \n",
       "873                                Carlsson, Mr. Frans Olof        S     33.0   \n",
       "854                               Lines, Miss. Mary Conover        S     16.0   \n",
       "1283         Lines, Mrs. Ernest H (Elizabeth Lindsey James)        S     51.0   \n",
       "\n",
       "             Fare    Ticket  fare_per_person  \n",
       "PassengerId                                   \n",
       "271          31.0    113798             15.5  \n",
       "843          31.0    113798             15.5  \n",
       "873           5.0       695              5.0  \n",
       "854          39.4  PC 17592             19.7  \n",
       "1283         39.4  PC 17592             19.7  "
      ]
     },
     "execution_count": 50,
     "metadata": {},
     "output_type": "execute_result"
    }
   ],
   "source": [
    "df.loc[(df.Pclass == 1) & (df.fare_per_person < 20), columns].sort_values(by='Ticket')"
   ]
  },
  {
   "cell_type": "markdown",
   "metadata": {
    "ExecuteTime": {
     "end_time": "2016-08-18T13:46:29.861230",
     "start_time": "2016-08-18T13:46:29.858230"
    }
   },
   "source": [
    "Mr. Carlsson has unusually low fare price, so we'll change that to the median of all passengers from Southampton in the first class. (Reusing `med` from above)"
   ]
  },
  {
   "cell_type": "code",
   "execution_count": 51,
   "metadata": {
    "ExecuteTime": {
     "end_time": "2016-09-07T21:06:17.423840",
     "start_time": "2016-09-07T21:06:17.420839"
    },
    "collapsed": false
   },
   "outputs": [],
   "source": [
    "df.loc[873, 'fare_per_person'] = med"
   ]
  },
  {
   "cell_type": "code",
   "execution_count": 52,
   "metadata": {
    "ExecuteTime": {
     "end_time": "2016-09-07T21:06:17.444841",
     "start_time": "2016-09-07T21:06:17.424840"
    },
    "collapsed": false
   },
   "outputs": [
    {
     "data": {
      "text/html": [
       "<div>\n",
       "<table border=\"1\" class=\"dataframe\">\n",
       "  <thead>\n",
       "    <tr style=\"text-align: right;\">\n",
       "      <th></th>\n",
       "      <th>Name</th>\n",
       "      <th>Embarked</th>\n",
       "      <th>new_age</th>\n",
       "      <th>Fare</th>\n",
       "      <th>Ticket</th>\n",
       "      <th>fare_per_person</th>\n",
       "    </tr>\n",
       "    <tr>\n",
       "      <th>PassengerId</th>\n",
       "      <th></th>\n",
       "      <th></th>\n",
       "      <th></th>\n",
       "      <th></th>\n",
       "      <th></th>\n",
       "      <th></th>\n",
       "    </tr>\n",
       "  </thead>\n",
       "  <tbody>\n",
       "    <tr>\n",
       "      <th>1107</th>\n",
       "      <td>Head, Mr. Christopher</td>\n",
       "      <td>S</td>\n",
       "      <td>42.0</td>\n",
       "      <td>42.5000</td>\n",
       "      <td>113038</td>\n",
       "      <td>42.5000</td>\n",
       "    </tr>\n",
       "    <tr>\n",
       "      <th>186</th>\n",
       "      <td>Rood, Mr. Hugh Roscoe</td>\n",
       "      <td>S</td>\n",
       "      <td>34.0</td>\n",
       "      <td>50.0000</td>\n",
       "      <td>113767</td>\n",
       "      <td>50.0000</td>\n",
       "    </tr>\n",
       "    <tr>\n",
       "      <th>1190</th>\n",
       "      <td>Loring, Mr. Joseph Holland</td>\n",
       "      <td>S</td>\n",
       "      <td>30.0</td>\n",
       "      <td>45.5000</td>\n",
       "      <td>113801</td>\n",
       "      <td>45.5000</td>\n",
       "    </tr>\n",
       "    <tr>\n",
       "      <th>584</th>\n",
       "      <td>Ross, Mr. John Hugo</td>\n",
       "      <td>C</td>\n",
       "      <td>36.0</td>\n",
       "      <td>40.1250</td>\n",
       "      <td>13049</td>\n",
       "      <td>40.1250</td>\n",
       "    </tr>\n",
       "    <tr>\n",
       "      <th>540</th>\n",
       "      <td>Frolicher, Miss. Hedwig Margaritha</td>\n",
       "      <td>C</td>\n",
       "      <td>22.0</td>\n",
       "      <td>49.5000</td>\n",
       "      <td>13568</td>\n",
       "      <td>49.5000</td>\n",
       "    </tr>\n",
       "    <tr>\n",
       "      <th>1270</th>\n",
       "      <td>Hipkins, Mr. William Edward</td>\n",
       "      <td>S</td>\n",
       "      <td>55.0</td>\n",
       "      <td>50.0000</td>\n",
       "      <td>680</td>\n",
       "      <td>50.0000</td>\n",
       "    </tr>\n",
       "    <tr>\n",
       "      <th>711</th>\n",
       "      <td>Mayne, Mlle. Berthe Antonine (\"Mrs de Villiers\")</td>\n",
       "      <td>C</td>\n",
       "      <td>24.0</td>\n",
       "      <td>49.5042</td>\n",
       "      <td>PC 17482</td>\n",
       "      <td>49.5042</td>\n",
       "    </tr>\n",
       "    <tr>\n",
       "      <th>868</th>\n",
       "      <td>Roebling, Mr. Washington Augustus II</td>\n",
       "      <td>S</td>\n",
       "      <td>31.0</td>\n",
       "      <td>50.4958</td>\n",
       "      <td>PC 17590</td>\n",
       "      <td>50.4958</td>\n",
       "    </tr>\n",
       "    <tr>\n",
       "      <th>1058</th>\n",
       "      <td>Brandeis, Mr. Emil</td>\n",
       "      <td>C</td>\n",
       "      <td>48.0</td>\n",
       "      <td>50.4958</td>\n",
       "      <td>PC 17591</td>\n",
       "      <td>50.4958</td>\n",
       "    </tr>\n",
       "    <tr>\n",
       "      <th>494</th>\n",
       "      <td>Artagaveytia, Mr. Ramon</td>\n",
       "      <td>C</td>\n",
       "      <td>71.0</td>\n",
       "      <td>49.5042</td>\n",
       "      <td>PC 17609</td>\n",
       "      <td>49.5042</td>\n",
       "    </tr>\n",
       "  </tbody>\n",
       "</table>\n",
       "</div>"
      ],
      "text/plain": [
       "                                                         Name Embarked  \\\n",
       "PassengerId                                                              \n",
       "1107                                    Head, Mr. Christopher        S   \n",
       "186                                     Rood, Mr. Hugh Roscoe        S   \n",
       "1190                               Loring, Mr. Joseph Holland        S   \n",
       "584                                       Ross, Mr. John Hugo        C   \n",
       "540                        Frolicher, Miss. Hedwig Margaritha        C   \n",
       "1270                              Hipkins, Mr. William Edward        S   \n",
       "711          Mayne, Mlle. Berthe Antonine (\"Mrs de Villiers\")        C   \n",
       "868                      Roebling, Mr. Washington Augustus II        S   \n",
       "1058                                       Brandeis, Mr. Emil        C   \n",
       "494                                   Artagaveytia, Mr. Ramon        C   \n",
       "\n",
       "             new_age     Fare    Ticket  fare_per_person  \n",
       "PassengerId                                               \n",
       "1107            42.0  42.5000    113038          42.5000  \n",
       "186             34.0  50.0000    113767          50.0000  \n",
       "1190            30.0  45.5000    113801          45.5000  \n",
       "584             36.0  40.1250     13049          40.1250  \n",
       "540             22.0  49.5000     13568          49.5000  \n",
       "1270            55.0  50.0000       680          50.0000  \n",
       "711             24.0  49.5042  PC 17482          49.5042  \n",
       "868             31.0  50.4958  PC 17590          50.4958  \n",
       "1058            48.0  50.4958  PC 17591          50.4958  \n",
       "494             71.0  49.5042  PC 17609          49.5042  "
      ]
     },
     "execution_count": 52,
     "metadata": {},
     "output_type": "execute_result"
    }
   ],
   "source": [
    "df.loc[(df.Pclass == 1) & (df.fare_per_person > 40) & (df.fare_per_person == df.Fare), columns].sort_values(by='Ticket')"
   ]
  },
  {
   "cell_type": "code",
   "execution_count": 53,
   "metadata": {
    "ExecuteTime": {
     "end_time": "2016-09-07T21:06:17.464842",
     "start_time": "2016-09-07T21:06:17.445841"
    },
    "collapsed": false
   },
   "outputs": [
    {
     "data": {
      "text/html": [
       "<div>\n",
       "<table border=\"1\" class=\"dataframe\">\n",
       "  <thead>\n",
       "    <tr style=\"text-align: right;\">\n",
       "      <th></th>\n",
       "      <th>Name</th>\n",
       "      <th>Embarked</th>\n",
       "      <th>new_age</th>\n",
       "      <th>Fare</th>\n",
       "      <th>Ticket</th>\n",
       "      <th>fare_per_person</th>\n",
       "    </tr>\n",
       "    <tr>\n",
       "      <th>PassengerId</th>\n",
       "      <th></th>\n",
       "      <th></th>\n",
       "      <th></th>\n",
       "      <th></th>\n",
       "      <th></th>\n",
       "      <th></th>\n",
       "    </tr>\n",
       "  </thead>\n",
       "  <tbody>\n",
       "    <tr>\n",
       "      <th>1144</th>\n",
       "      <td>Clark, Mr. Walter Miller</td>\n",
       "      <td>C</td>\n",
       "      <td>27.0</td>\n",
       "      <td>136.7792</td>\n",
       "      <td>13508</td>\n",
       "      <td>68.389600</td>\n",
       "    </tr>\n",
       "    <tr>\n",
       "      <th>1164</th>\n",
       "      <td>Clark, Mrs. Walter Miller (Virginia McDowell)</td>\n",
       "      <td>C</td>\n",
       "      <td>26.0</td>\n",
       "      <td>136.7792</td>\n",
       "      <td>13508</td>\n",
       "      <td>68.389600</td>\n",
       "    </tr>\n",
       "    <tr>\n",
       "      <th>119</th>\n",
       "      <td>Baxter, Mr. Quigg Edmond</td>\n",
       "      <td>C</td>\n",
       "      <td>24.0</td>\n",
       "      <td>247.5208</td>\n",
       "      <td>PC 17558</td>\n",
       "      <td>82.506933</td>\n",
       "    </tr>\n",
       "    <tr>\n",
       "      <th>300</th>\n",
       "      <td>Baxter, Mrs. James (Helene DeLaudeniere Chaput)</td>\n",
       "      <td>C</td>\n",
       "      <td>50.0</td>\n",
       "      <td>247.5208</td>\n",
       "      <td>PC 17558</td>\n",
       "      <td>82.506933</td>\n",
       "    </tr>\n",
       "    <tr>\n",
       "      <th>1076</th>\n",
       "      <td>Douglas, Mrs. Frederick Charles (Mary Helene B...</td>\n",
       "      <td>C</td>\n",
       "      <td>27.0</td>\n",
       "      <td>247.5208</td>\n",
       "      <td>PC 17558</td>\n",
       "      <td>82.506933</td>\n",
       "    </tr>\n",
       "    <tr>\n",
       "      <th>335</th>\n",
       "      <td>Frauenthal, Mrs. Henry William (Clara Heinshei...</td>\n",
       "      <td>S</td>\n",
       "      <td>53.0</td>\n",
       "      <td>133.6500</td>\n",
       "      <td>PC 17611</td>\n",
       "      <td>66.825000</td>\n",
       "    </tr>\n",
       "    <tr>\n",
       "      <th>661</th>\n",
       "      <td>Frauenthal, Dr. Henry William</td>\n",
       "      <td>S</td>\n",
       "      <td>50.0</td>\n",
       "      <td>133.6500</td>\n",
       "      <td>PC 17611</td>\n",
       "      <td>66.825000</td>\n",
       "    </tr>\n",
       "    <tr>\n",
       "      <th>259</th>\n",
       "      <td>Ward, Miss. Anna</td>\n",
       "      <td>C</td>\n",
       "      <td>35.0</td>\n",
       "      <td>512.3292</td>\n",
       "      <td>PC 17755</td>\n",
       "      <td>128.082300</td>\n",
       "    </tr>\n",
       "    <tr>\n",
       "      <th>680</th>\n",
       "      <td>Cardeza, Mr. Thomas Drake Martinez</td>\n",
       "      <td>C</td>\n",
       "      <td>36.0</td>\n",
       "      <td>512.3292</td>\n",
       "      <td>PC 17755</td>\n",
       "      <td>128.082300</td>\n",
       "    </tr>\n",
       "    <tr>\n",
       "      <th>738</th>\n",
       "      <td>Lesurer, Mr. Gustave J</td>\n",
       "      <td>C</td>\n",
       "      <td>35.0</td>\n",
       "      <td>512.3292</td>\n",
       "      <td>PC 17755</td>\n",
       "      <td>128.082300</td>\n",
       "    </tr>\n",
       "    <tr>\n",
       "      <th>1235</th>\n",
       "      <td>Cardeza, Mrs. James Warburton Martinez (Charlo...</td>\n",
       "      <td>C</td>\n",
       "      <td>58.0</td>\n",
       "      <td>512.3292</td>\n",
       "      <td>PC 17755</td>\n",
       "      <td>128.082300</td>\n",
       "    </tr>\n",
       "  </tbody>\n",
       "</table>\n",
       "</div>"
      ],
      "text/plain": [
       "                                                          Name Embarked  \\\n",
       "PassengerId                                                               \n",
       "1144                                  Clark, Mr. Walter Miller        C   \n",
       "1164             Clark, Mrs. Walter Miller (Virginia McDowell)        C   \n",
       "119                                   Baxter, Mr. Quigg Edmond        C   \n",
       "300            Baxter, Mrs. James (Helene DeLaudeniere Chaput)        C   \n",
       "1076         Douglas, Mrs. Frederick Charles (Mary Helene B...        C   \n",
       "335          Frauenthal, Mrs. Henry William (Clara Heinshei...        S   \n",
       "661                              Frauenthal, Dr. Henry William        S   \n",
       "259                                           Ward, Miss. Anna        C   \n",
       "680                         Cardeza, Mr. Thomas Drake Martinez        C   \n",
       "738                                     Lesurer, Mr. Gustave J        C   \n",
       "1235         Cardeza, Mrs. James Warburton Martinez (Charlo...        C   \n",
       "\n",
       "             new_age      Fare    Ticket  fare_per_person  \n",
       "PassengerId                                                \n",
       "1144            27.0  136.7792     13508        68.389600  \n",
       "1164            26.0  136.7792     13508        68.389600  \n",
       "119             24.0  247.5208  PC 17558        82.506933  \n",
       "300             50.0  247.5208  PC 17558        82.506933  \n",
       "1076            27.0  247.5208  PC 17558        82.506933  \n",
       "335             53.0  133.6500  PC 17611        66.825000  \n",
       "661             50.0  133.6500  PC 17611        66.825000  \n",
       "259             35.0  512.3292  PC 17755       128.082300  \n",
       "680             36.0  512.3292  PC 17755       128.082300  \n",
       "738             35.0  512.3292  PC 17755       128.082300  \n",
       "1235            58.0  512.3292  PC 17755       128.082300  "
      ]
     },
     "execution_count": 53,
     "metadata": {},
     "output_type": "execute_result"
    }
   ],
   "source": [
    "df.loc[(df.Pclass == 1) & (df.fare_per_person > 60), columns].sort_values(by='Ticket')"
   ]
  },
  {
   "cell_type": "markdown",
   "metadata": {},
   "source": [
    "Cardeza family (with their servants) paid 50% more than next highest fare (Baxter family)."
   ]
  },
  {
   "cell_type": "markdown",
   "metadata": {},
   "source": [
    "#### After cleaning"
   ]
  },
  {
   "cell_type": "code",
   "execution_count": 54,
   "metadata": {
    "ExecuteTime": {
     "end_time": "2016-09-07T21:06:17.715856",
     "start_time": "2016-09-07T21:06:17.465842"
    },
    "collapsed": false
   },
   "outputs": [
    {
     "data": {
      "image/png": "[encoded data removed]",
      "text/plain": [
       "<matplotlib.figure.Figure at 0xb4d0c50>"
      ]
     },
     "metadata": {},
     "output_type": "display_data"
    }
   ],
   "source": [
    "ax = sns.boxplot(x=df.fare_per_person, y=df.Pclass, orient='h')\n",
    "_ = (ax.set_title('Fare Per Person, After Cleaning'),\n",
    "     ax.set_xlim(0, 70)\n",
    "    )"
   ]
  },
  {
   "cell_type": "code",
   "execution_count": 55,
   "metadata": {
    "ExecuteTime": {
     "end_time": "2016-09-07T21:06:18.074877",
     "start_time": "2016-09-07T21:06:17.716856"
    },
    "collapsed": false,
    "scrolled": false
   },
   "outputs": [
    {
     "data": {
      "image/png": "[encoded data removed]",
      "text/plain": [
       "<matplotlib.figure.Figure at 0xa023470>"
      ]
     },
     "metadata": {},
     "output_type": "display_data"
    }
   ],
   "source": [
    "for cl in [1, 2, 3]:\n",
    "    ax = df.loc[df.Pclass == cl, 'fare_per_person'].plot.kde()\n",
    "_ = (ax.set_xlim(0, 70), ax.set_xlabel('Fare per person'), \n",
    "     plt.legend(('1st Class', '2nd Class', '3rd Class'))\n",
    "    )"
   ]
  },
  {
   "cell_type": "code",
   "execution_count": 56,
   "metadata": {
    "ExecuteTime": {
     "end_time": "2016-09-07T21:06:18.420897",
     "start_time": "2016-09-07T21:06:18.075877"
    },
    "collapsed": false,
    "scrolled": false
   },
   "outputs": [
    {
     "data": {
      "image/png": "[encoded data removed]",
      "text/plain": [
       "<matplotlib.figure.Figure at 0xa023f60>"
      ]
     },
     "metadata": {},
     "output_type": "display_data"
    }
   ],
   "source": [
    "ax = sns.regplot(x='fare_per_person', y='Survived', data=df, x_bins=60, \n",
    "                 fit_reg=False, x_ci=None, scatter_kws={'alpha':0.5})\n",
    "\n",
    "_ = ax.set_title('Survival Rate by Fare Per Person')"
   ]
  },
  {
   "cell_type": "code",
   "execution_count": 57,
   "metadata": {
    "ExecuteTime": {
     "end_time": "2016-09-07T21:06:18.462899",
     "start_time": "2016-09-07T21:06:18.421897"
    },
    "collapsed": false
   },
   "outputs": [
    {
     "name": "stdout",
     "output_type": "stream",
     "text": [
      "count    323.000000\n",
      "mean      34.552606\n",
      "std       14.476464\n",
      "min       15.500000\n",
      "25%       26.550000\n",
      "50%       29.700000\n",
      "75%       38.643750\n",
      "max      128.082300\n",
      "Name: fare_per_person, dtype: float64\n",
      "\n",
      "count    986.000000\n",
      "mean       8.540781\n",
      "std        2.437226\n",
      "min        3.170800\n",
      "25%        7.229200\n",
      "50%        7.883350\n",
      "75%        9.646875\n",
      "max       16.000000\n",
      "Name: fare_per_person, dtype: float64\n"
     ]
    }
   ],
   "source": [
    "print(df.loc[df.Pclass == 1, 'fare_per_person'].describe())\n",
    "print()\n",
    "print(df.loc[~(df.Pclass == 1), 'fare_per_person'].describe())"
   ]
  },
  {
   "cell_type": "markdown",
   "metadata": {},
   "source": [
    "There's a clear separation in fare between passengers in the first class and the rest of the passengers."
   ]
  },
  {
   "cell_type": "markdown",
   "metadata": {},
   "source": [
    "### Deck"
   ]
  },
  {
   "cell_type": "markdown",
   "metadata": {},
   "source": [
    "Titanic Decks: (listed from top of ship to bottom)\n",
    "\n",
    "- Boat Deck (\"T\")\n",
    "- Promenade Deck (\"A\")\n",
    "- Bridge Deck (\"B\")\n",
    "- Shelter Deck (\"C\")\n",
    "- Saloon Deck (\"D\")\n",
    "- Upper Deck (\"E\")\n",
    "- Middle Deck (\"F\")\n",
    "- Lower Deck (\"G\")\n",
    "- Orlop Deck\n",
    "\n",
    "(Source: http://www.titanicstory.com/shipspec.htm)"
   ]
  },
  {
   "cell_type": "markdown",
   "metadata": {},
   "source": [
    "First character of a `Cabin` is a name of a deck. There are lots of missing values for cabin, but let's see if we can do anything about it."
   ]
  },
  {
   "cell_type": "code",
   "execution_count": 58,
   "metadata": {
    "ExecuteTime": {
     "end_time": "2016-09-07T21:06:18.471899",
     "start_time": "2016-09-07T21:06:18.463899"
    },
    "collapsed": false
   },
   "outputs": [
    {
     "data": {
      "text/plain": [
       "NaN    1014\n",
       "C        94\n",
       "B        65\n",
       "D        46\n",
       "E        41\n",
       "A        22\n",
       "F        21\n",
       "G         5\n",
       "T         1\n",
       "Name: deck, dtype: int64"
      ]
     },
     "execution_count": 58,
     "metadata": {},
     "output_type": "execute_result"
    }
   ],
   "source": [
    "df['deck'] = df.Cabin.map(lambda x: x[0] if isinstance(x, str) else x)\n",
    "df.deck.value_counts(dropna=False)"
   ]
  },
  {
   "cell_type": "markdown",
   "metadata": {},
   "source": [
    "We'll impute values based on family members or friends which have known deck."
   ]
  },
  {
   "cell_type": "code",
   "execution_count": 59,
   "metadata": {
    "ExecuteTime": {
     "end_time": "2016-09-07T21:06:18.534903",
     "start_time": "2016-09-07T21:06:18.472900"
    },
    "collapsed": false
   },
   "outputs": [
    {
     "data": {
      "text/plain": [
       "NaN    989\n",
       "C      104\n",
       "B       70\n",
       "D       50\n",
       "E       42\n",
       "F       26\n",
       "A       22\n",
       "G        5\n",
       "T        1\n",
       "Name: deck, dtype: int64"
      ]
     },
     "execution_count": 59,
     "metadata": {},
     "output_type": "execute_result"
    }
   ],
   "source": [
    "def deck_filler(person, column):\n",
    "    # get mode value of a deck for a given column\n",
    "    return df.loc[df[column]==person[column], 'deck'].value_counts().index[0]\n",
    "\n",
    "\n",
    "families_w_known_decks = df.loc[(df.deck.notnull()) & (df.family > 0), \n",
    "                                ['last_name', 'deck']]\n",
    "\n",
    "# people whose family has known deck\n",
    "missing_deck_known = df.deck.isnull() & (df.family > 0) & df.last_name.isin(families_w_known_decks.last_name)\n",
    "\n",
    "# people who have the same ticket as people whose deck is known\n",
    "missing_ticket_known = (df.deck.isnull() & df.Ticket.isin(df.loc[df.deck.notnull(), 'Ticket']))\n",
    "\n",
    "\n",
    "df.loc[missing_deck_known, 'deck'] = df.loc[missing_deck_known].apply(deck_filler, args=('last_name',), axis=1)\n",
    "df.loc[missing_ticket_known, 'deck'] = df.loc[missing_ticket_known].apply(deck_filler, args=('Ticket',), axis=1)\n",
    "\n",
    "\n",
    "df.deck.value_counts(dropna=False)"
   ]
  },
  {
   "cell_type": "markdown",
   "metadata": {},
   "source": [
    "Only one passenger in the top-most deck (T), so we'll put him in the next-highest: 'A'."
   ]
  },
  {
   "cell_type": "code",
   "execution_count": 60,
   "metadata": {
    "ExecuteTime": {
     "end_time": "2016-09-07T21:06:18.539903",
     "start_time": "2016-09-07T21:06:18.535903"
    },
    "collapsed": false
   },
   "outputs": [],
   "source": [
    "df.loc[df.deck == 'T', 'deck'] = 'A'"
   ]
  },
  {
   "cell_type": "code",
   "execution_count": 61,
   "metadata": {
    "ExecuteTime": {
     "end_time": "2016-09-07T21:06:18.544904",
     "start_time": "2016-09-07T21:06:18.540903"
    },
    "collapsed": true
   },
   "outputs": [],
   "source": [
    "df.deck.fillna('u', inplace=True)"
   ]
  },
  {
   "cell_type": "code",
   "execution_count": 62,
   "metadata": {
    "ExecuteTime": {
     "end_time": "2016-09-07T21:06:18.584906",
     "start_time": "2016-09-07T21:06:18.545904"
    },
    "collapsed": false
   },
   "outputs": [
    {
     "data": {
      "text/html": [
       "<div>\n",
       "<table border=\"1\" class=\"dataframe\">\n",
       "  <thead>\n",
       "    <tr style=\"text-align: right;\">\n",
       "      <th>Pclass</th>\n",
       "      <th>1</th>\n",
       "      <th>2</th>\n",
       "      <th>3</th>\n",
       "      <th>All</th>\n",
       "    </tr>\n",
       "    <tr>\n",
       "      <th>deck</th>\n",
       "      <th></th>\n",
       "      <th></th>\n",
       "      <th></th>\n",
       "      <th></th>\n",
       "    </tr>\n",
       "  </thead>\n",
       "  <tbody>\n",
       "    <tr>\n",
       "      <th>A</th>\n",
       "      <td>23</td>\n",
       "      <td>0</td>\n",
       "      <td>0</td>\n",
       "      <td>23</td>\n",
       "    </tr>\n",
       "    <tr>\n",
       "      <th>B</th>\n",
       "      <td>68</td>\n",
       "      <td>2</td>\n",
       "      <td>0</td>\n",
       "      <td>70</td>\n",
       "    </tr>\n",
       "    <tr>\n",
       "      <th>C</th>\n",
       "      <td>104</td>\n",
       "      <td>0</td>\n",
       "      <td>0</td>\n",
       "      <td>104</td>\n",
       "    </tr>\n",
       "    <tr>\n",
       "      <th>D</th>\n",
       "      <td>42</td>\n",
       "      <td>8</td>\n",
       "      <td>0</td>\n",
       "      <td>50</td>\n",
       "    </tr>\n",
       "    <tr>\n",
       "      <th>E</th>\n",
       "      <td>34</td>\n",
       "      <td>5</td>\n",
       "      <td>3</td>\n",
       "      <td>42</td>\n",
       "    </tr>\n",
       "    <tr>\n",
       "      <th>F</th>\n",
       "      <td>0</td>\n",
       "      <td>16</td>\n",
       "      <td>10</td>\n",
       "      <td>26</td>\n",
       "    </tr>\n",
       "    <tr>\n",
       "      <th>G</th>\n",
       "      <td>0</td>\n",
       "      <td>0</td>\n",
       "      <td>5</td>\n",
       "      <td>5</td>\n",
       "    </tr>\n",
       "    <tr>\n",
       "      <th>u</th>\n",
       "      <td>52</td>\n",
       "      <td>246</td>\n",
       "      <td>691</td>\n",
       "      <td>989</td>\n",
       "    </tr>\n",
       "    <tr>\n",
       "      <th>All</th>\n",
       "      <td>323</td>\n",
       "      <td>277</td>\n",
       "      <td>709</td>\n",
       "      <td>1309</td>\n",
       "    </tr>\n",
       "  </tbody>\n",
       "</table>\n",
       "</div>"
      ],
      "text/plain": [
       "Pclass    1    2    3   All\n",
       "deck                       \n",
       "A        23    0    0    23\n",
       "B        68    2    0    70\n",
       "C       104    0    0   104\n",
       "D        42    8    0    50\n",
       "E        34    5    3    42\n",
       "F         0   16   10    26\n",
       "G         0    0    5     5\n",
       "u        52  246  691   989\n",
       "All     323  277  709  1309"
      ]
     },
     "execution_count": 62,
     "metadata": {},
     "output_type": "execute_result"
    }
   ],
   "source": [
    "pd.crosstab(df.deck, df.Pclass, margins=True)"
   ]
  },
  {
   "cell_type": "markdown",
   "metadata": {},
   "source": [
    "We know decks of 271 first-class passengers (out of 323 total first-class passengers). Situation gets much worse in the lower classes.  "
   ]
  },
  {
   "cell_type": "markdown",
   "metadata": {},
   "source": [
    "## Final touches"
   ]
  },
  {
   "cell_type": "code",
   "execution_count": 63,
   "metadata": {
    "ExecuteTime": {
     "end_time": "2016-09-07T21:06:18.595907",
     "start_time": "2016-09-07T21:06:18.585906"
    },
    "collapsed": false
   },
   "outputs": [
    {
     "name": "stdout",
     "output_type": "stream",
     "text": [
      "<class 'pandas.core.frame.DataFrame'>\n",
      "Int64Index: 1309 entries, 1 to 1309\n",
      "Data columns (total 22 columns):\n",
      "Age                1046 non-null float64\n",
      "Cabin              295 non-null object\n",
      "Embarked           1309 non-null object\n",
      "Fare               1309 non-null float64\n",
      "Name               1309 non-null object\n",
      "Parch              1309 non-null int64\n",
      "Pclass             1309 non-null int64\n",
      "Sex                1309 non-null object\n",
      "SibSp              1309 non-null int64\n",
      "Survived           891 non-null float64\n",
      "Ticket             1309 non-null object\n",
      "source             1309 non-null object\n",
      "male               1309 non-null int32\n",
      "last_name          1309 non-null object\n",
      "title              1309 non-null object\n",
      "new_age            1309 non-null float64\n",
      "family             1309 non-null int64\n",
      "known_people       1309 non-null int64\n",
      "mother             1309 non-null int32\n",
      "family_survived    1309 non-null int64\n",
      "fare_per_person    1309 non-null float64\n",
      "deck               1309 non-null object\n",
      "dtypes: float64(5), int32(2), int64(6), object(9)\n",
      "memory usage: 225.0+ KB\n"
     ]
    }
   ],
   "source": [
    "df.info()"
   ]
  },
  {
   "cell_type": "markdown",
   "metadata": {},
   "source": [
    "We'll drop columns that are not needed, and encode categorical variables."
   ]
  },
  {
   "cell_type": "code",
   "execution_count": 64,
   "metadata": {
    "ExecuteTime": {
     "end_time": "2016-09-07T21:06:18.627908",
     "start_time": "2016-09-07T21:06:18.596907"
    },
    "collapsed": false
   },
   "outputs": [
    {
     "name": "stdout",
     "output_type": "stream",
     "text": [
      "<class 'pandas.core.frame.DataFrame'>\n",
      "Int64Index: 1309 entries, 1 to 1309\n",
      "Data columns (total 26 columns):\n",
      "Parch              1309 non-null int64\n",
      "Pclass             1309 non-null int64\n",
      "SibSp              1309 non-null int64\n",
      "Survived           891 non-null float64\n",
      "source             1309 non-null object\n",
      "new_age            1309 non-null float64\n",
      "known_people       1309 non-null int64\n",
      "mother             1309 non-null int32\n",
      "family_survived    1309 non-null int64\n",
      "fare_per_person    1309 non-null float64\n",
      "Embarked_C         1309 non-null int32\n",
      "Embarked_Q         1309 non-null int32\n",
      "Embarked_S         1309 non-null int32\n",
      "title_Master       1309 non-null int32\n",
      "title_Miss         1309 non-null int32\n",
      "title_Mr           1309 non-null int32\n",
      "title_Mrs          1309 non-null int32\n",
      "title_Officer      1309 non-null int32\n",
      "deck_A             1309 non-null int32\n",
      "deck_B             1309 non-null int32\n",
      "deck_C             1309 non-null int32\n",
      "deck_D             1309 non-null int32\n",
      "deck_E             1309 non-null int32\n",
      "deck_F             1309 non-null int32\n",
      "deck_G             1309 non-null int32\n",
      "deck_u             1309 non-null int32\n",
      "dtypes: float64(3), int32(17), int64(5), object(1)\n",
      "memory usage: 189.2+ KB\n"
     ]
    }
   ],
   "source": [
    "not_needed = ['Age', 'Cabin', 'Fare', \n",
    "              'Name', 'Sex', 'Ticket', \n",
    "              'family', 'male', 'last_name',  \n",
    "             ]\n",
    "df_ = df.drop(not_needed, axis=1)\n",
    "\n",
    "\n",
    "categorical = ['Embarked', 'title', 'deck']\n",
    "\n",
    "for column in categorical:\n",
    "    dummy = pd.get_dummies(df_[column], prefix=column).astype(int)\n",
    "    df_ = df_.join(dummy)\n",
    "    df_.drop(column, axis=1, inplace=True)\n",
    "\n",
    "df_.info()"
   ]
  },
  {
   "cell_type": "code",
   "execution_count": 65,
   "metadata": {
    "ExecuteTime": {
     "end_time": "2016-09-07T21:06:18.674911",
     "start_time": "2016-09-07T21:06:18.628908"
    },
    "collapsed": false
   },
   "outputs": [],
   "source": [
    "df_train_ = df_[df_.source == 'train'].drop('source', axis=1)\n",
    "df_test_ = df_[df_.source == 'test'].drop('source', axis=1)\n",
    "\n",
    "df_train_.to_csv('./datasets/titanic-train-2.csv')\n",
    "df_test_.to_csv('./datasets/titanic-test-2.csv')"
   ]
  },
  {
   "cell_type": "markdown",
   "metadata": {},
   "source": [
    "New datasets are ready to be used for machine learning. That will be the next topic in this series of notebooks regarding Titanic dataset.\n",
    "\n",
    "&nbsp;\n",
    "\n",
    "&nbsp;\n"
   ]
  },
  {
   "cell_type": "markdown",
   "metadata": {},
   "source": [
    "#### Notebook Style"
   ]
  },
  {
   "cell_type": "code",
   "execution_count": 1,
   "metadata": {
    "ExecuteTime": {
     "end_time": "2016-09-07T21:05:42.907865",
     "start_time": "2016-09-07T21:05:42.893865"
    },
    "collapsed": false,
    "init_cell": true
   },
   "outputs": [
    {
     "data": {
      "text/html": [
       "<style>\n",
       "    @import 'https://fonts.googleapis.com/css?family=Merriweather:300|Open+Sans:700|Source+Code+Pro';\n",
       "    div.cell{\n",
       "        width: 85%;\n",
       "        margin-left:auto;\n",
       "        margin-right:auto;\n",
       "    }\n",
       "    ul {\n",
       "        line-height: 130%;\n",
       "    }\n",
       "    li {\n",
       "        margin-bottom: 0.5em;\n",
       "    }\n",
       "    h1, h2, h3, h4, h5 {\n",
       "        font-family: 'Open Sans', sans-serif;\n",
       "    }\n",
       "\n",
       "    div.text_cell_render{\n",
       "        font-family: 'Merriweather', serif;\n",
       "        font-weight: 300;\n",
       "        line-height: 175%;\n",
       "        font-size: 1.2em;\n",
       "        letter-spacing: 0.3pt;\n",
       "        width: 100%;\n",
       "        margin-left:auto;\n",
       "        margin-right:auto;\n",
       "    }\n",
       "    div.input_area{\n",
       "        font-family: 'Source Code Pro', 'Consolas', monospace;\n",
       "        font-size: 12pt;\n",
       "    }\n",
       "    .CodeMirror{\n",
       "        font-family: 'Source Code Pro', 'Consolas', monospace;\n",
       "        font-size: 12pt;\n",
       "    }\n",
       "    .warning{\n",
       "        color: rgb( 240, 20, 20 )\n",
       "        }\n",
       "</style>\n"
      ],
      "text/plain": [
       "<IPython.core.display.HTML object>"
      ]
     },
     "execution_count": 1,
     "metadata": {},
     "output_type": "execute_result"
    }
   ],
   "source": [
    "from IPython.core.display import HTML\n",
    "def css_styling(): \n",
    "    styles = open(\"./styles/custom.css\", \"r\").read()\n",
    "    return HTML(styles)\n",
    "css_styling()"
   ]
  }
 ],
 "metadata": {
  "kernelspec": {
   "display_name": "Python 3",
   "language": "python",
   "name": "python3"
  },
  "language_info": {
   "codemirror_mode": {
    "name": "ipython",
    "version": 3
   },
   "file_extension": ".py",
   "mimetype": "text/x-python",
   "name": "python",
   "nbconvert_exporter": "python",
   "pygments_lexer": "ipython3",
   "version": "3.5.1"
  },
  "latex_envs": {
   "bibliofile": "biblio.bib",
   "cite_by": "apalike",
   "current_citInitial": 1,
   "eqLabelWithNumbers": true,
   "eqNumInitial": 0
  },
  "notify_time": "30"
 },
 "nbformat": 4,
 "nbformat_minor": 0
}
