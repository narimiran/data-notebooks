{
 "cells": [
  {
   "cell_type": "markdown",
   "metadata": {},
   "source": [
    "# Parlamentarni izbori 2016, or:\n",
    "\n",
    "## How I Learned to Stop Worrying and Love D'Hondt\n",
    "\n",
    "&nbsp;\n",
    "\n",
    "**Autor**: Miran T.\n",
    "\n",
    "&nbsp;\n",
    "\n",
    "> Republika Hrvatske podijeljena je u 10 izbornih jedinica. U svakoj izbornoj jedinici se bira po 14 zastupnika.  \n",
    "Birači koji nemaju prebivalište u Republici Hrvatskoj, glasuju u 11. izbornoj jedinici za dijasporu, i biraju 3 zastupnika.  \n",
    "Pripadnici nacionalnih manjina odlučuju hoće li glasati u jednoj od deset izbornih jedinica, ili u 12. izbornoj jedinici za dijasporu, u kojoj se bira 8 zastupnika.  \n",
    "Broj zastupnika koji će biti izabrani u pojedinoj izbornoj jedinici određuje se po [D'Hondtovoj metodi](https://en.wikipedia.org/wiki/D%27Hondt_method), a u raspodijeli zastupničkih mjesta sudjeluju sve izborne liste koje osvoje barem 5% važećih glasova.\n",
    "\n",
    "Izbori za zastupnike u Hrvatski sabor 2016. održani su 11. rujna 2016. godine. \n",
    "\n",
    "U ovom radu prikazat će se rezultati navedenih izbora (za prvih 10 izbornih jedinica - bez manjina i dijaspore) u raznim imaginarnim scenarijima:\n",
    "\n",
    "- [cijela RH je jedna izborna jedinica](#Cijela-Hrvatska-je-jedna-izborna-jedinica)\n",
    "- [izborni prag je 3%](#Izborni-prag-je-3%)\n",
    "- [cijela RH je jedna izborna jedinica i izborni prag je 3%](#Cijela-Hrvatska-je-jedna-izborna-jedinica-i-izborni-prag-je-3%)\n",
    "- [u svakoj izbornoj jedinici bira se 12 zastupnika](#U-svakoj-izbornoj-jedinici-bira-se-12-zastupnika)\n",
    "- [korištenje Webster metode](#Kori%C5%A1tenje-Webster-metode)\n",
    "- [Webster metoda i izborni prag od 3%](#Webster-metoda-i-izborni-prag-od-3%)\n",
    "\n",
    "&nbsp; \n",
    "\n",
    "*Napomena: naslov je referenca na film \"Dr. Strangelove\" i njime se ne izražava autorova ljubav prema nijednom izbornom sustavu ili metodi.*\n",
    "\n",
    "&nbsp;\n",
    "\n",
    "&nbsp;\n"
   ]
  },
  {
   "cell_type": "markdown",
   "metadata": {},
   "source": [
    "## Python kod"
   ]
  },
  {
   "cell_type": "code",
   "execution_count": 2,
   "metadata": {
    "ExecuteTime": {
     "end_time": "2016-09-12T14:01:09.396810",
     "start_time": "2016-09-12T14:01:08.868780"
    },
    "collapsed": true,
    "init_cell": false
   },
   "outputs": [],
   "source": [
    "import pandas as pd\n",
    "import numpy as np\n",
    "import matplotlib.pyplot as plt\n",
    "\n",
    "\n",
    "%matplotlib inline\n",
    "plt.style.use('ggplot')\n",
    "plt.rcParams['figure.figsize'] = (11.0, 7.0)\n",
    "plt.rcParams['font.size'] = 10\n",
    "plt.rcParams['figure.titlesize'] = 12\n",
    "plt.rcParams['figure.titleweight'] = 'bold'\n",
    "plt.rcParams['axes.titlesize'] = 12\n",
    "plt.rcParams['axes.titleweight'] = 'bold'\n",
    "plt.rcParams['axes.labelsize'] = 10\n",
    "plt.rcParams['axes.labelweight'] = 'bold'\n",
    "plt.rcParams['xtick.labelsize'] = 10\n",
    "plt.rcParams['ytick.labelsize'] = 10\n",
    "plt.rcParams['legend.fontsize'] = 10"
   ]
  },
  {
   "cell_type": "code",
   "execution_count": 3,
   "metadata": {
    "ExecuteTime": {
     "end_time": "2016-09-12T14:01:09.609822",
     "start_time": "2016-09-12T14:01:09.397810"
    },
    "collapsed": false,
    "init_cell": false
   },
   "outputs": [
    {
     "ename": "OSError",
     "evalue": "File b'./#datasets/hr_izbori.csv' does not exist",
     "output_type": "error",
     "traceback": [
      "\u001b[0;31m---------------------------------------------------------------------------\u001b[0m",
      "\u001b[0;31mOSError\u001b[0m                                   Traceback (most recent call last)",
      "\u001b[0;32m<ipython-input-3-9837c7c91ad5>\u001b[0m in \u001b[0;36m<module>\u001b[0;34m()\u001b[0m\n\u001b[0;32m----> 1\u001b[0;31m \u001b[0mdf\u001b[0m \u001b[0;34m=\u001b[0m \u001b[0mpd\u001b[0m\u001b[0;34m.\u001b[0m\u001b[0mread_csv\u001b[0m\u001b[0;34m(\u001b[0m\u001b[0;34m'./#datasets/hr_izbori.csv'\u001b[0m\u001b[0;34m,\u001b[0m \u001b[0mindex_col\u001b[0m\u001b[0;34m=\u001b[0m\u001b[0;34m'Izborna jedinica'\u001b[0m\u001b[0;34m)\u001b[0m\u001b[0;34m\u001b[0m\u001b[0m\n\u001b[0m\u001b[1;32m      2\u001b[0m \u001b[0mdf\u001b[0m\u001b[0;34m\u001b[0m\u001b[0m\n",
      "\u001b[0;32mc:\\program files\\python\\lib\\site-packages\\pandas\\io\\parsers.py\u001b[0m in \u001b[0;36mparser_f\u001b[0;34m(filepath_or_buffer, sep, delimiter, header, names, index_col, usecols, squeeze, prefix, mangle_dupe_cols, dtype, engine, converters, true_values, false_values, skipinitialspace, skiprows, skipfooter, nrows, na_values, keep_default_na, na_filter, verbose, skip_blank_lines, parse_dates, infer_datetime_format, keep_date_col, date_parser, dayfirst, iterator, chunksize, compression, thousands, decimal, lineterminator, quotechar, quoting, escapechar, comment, encoding, dialect, tupleize_cols, error_bad_lines, warn_bad_lines, skip_footer, doublequote, delim_whitespace, as_recarray, compact_ints, use_unsigned, low_memory, buffer_lines, memory_map, float_precision)\u001b[0m\n\u001b[1;32m    527\u001b[0m                     skip_blank_lines=skip_blank_lines)\n\u001b[1;32m    528\u001b[0m \u001b[0;34m\u001b[0m\u001b[0m\n\u001b[0;32m--> 529\u001b[0;31m         \u001b[0;32mreturn\u001b[0m \u001b[0m_read\u001b[0m\u001b[0;34m(\u001b[0m\u001b[0mfilepath_or_buffer\u001b[0m\u001b[0;34m,\u001b[0m \u001b[0mkwds\u001b[0m\u001b[0;34m)\u001b[0m\u001b[0;34m\u001b[0m\u001b[0m\n\u001b[0m\u001b[1;32m    530\u001b[0m \u001b[0;34m\u001b[0m\u001b[0m\n\u001b[1;32m    531\u001b[0m     \u001b[0mparser_f\u001b[0m\u001b[0;34m.\u001b[0m\u001b[0m__name__\u001b[0m \u001b[0;34m=\u001b[0m \u001b[0mname\u001b[0m\u001b[0;34m\u001b[0m\u001b[0m\n",
      "\u001b[0;32mc:\\program files\\python\\lib\\site-packages\\pandas\\io\\parsers.py\u001b[0m in \u001b[0;36m_read\u001b[0;34m(filepath_or_buffer, kwds)\u001b[0m\n\u001b[1;32m    293\u001b[0m \u001b[0;34m\u001b[0m\u001b[0m\n\u001b[1;32m    294\u001b[0m     \u001b[0;31m# Create the parser.\u001b[0m\u001b[0;34m\u001b[0m\u001b[0;34m\u001b[0m\u001b[0m\n\u001b[0;32m--> 295\u001b[0;31m     \u001b[0mparser\u001b[0m \u001b[0;34m=\u001b[0m \u001b[0mTextFileReader\u001b[0m\u001b[0;34m(\u001b[0m\u001b[0mfilepath_or_buffer\u001b[0m\u001b[0;34m,\u001b[0m \u001b[0;34m**\u001b[0m\u001b[0mkwds\u001b[0m\u001b[0;34m)\u001b[0m\u001b[0;34m\u001b[0m\u001b[0m\n\u001b[0m\u001b[1;32m    296\u001b[0m \u001b[0;34m\u001b[0m\u001b[0m\n\u001b[1;32m    297\u001b[0m     \u001b[0;32mif\u001b[0m \u001b[0;34m(\u001b[0m\u001b[0mnrows\u001b[0m \u001b[0;32mis\u001b[0m \u001b[0;32mnot\u001b[0m \u001b[0;32mNone\u001b[0m\u001b[0;34m)\u001b[0m \u001b[0;32mand\u001b[0m \u001b[0;34m(\u001b[0m\u001b[0mchunksize\u001b[0m \u001b[0;32mis\u001b[0m \u001b[0;32mnot\u001b[0m \u001b[0;32mNone\u001b[0m\u001b[0;34m)\u001b[0m\u001b[0;34m:\u001b[0m\u001b[0;34m\u001b[0m\u001b[0m\n",
      "\u001b[0;32mc:\\program files\\python\\lib\\site-packages\\pandas\\io\\parsers.py\u001b[0m in \u001b[0;36m__init__\u001b[0;34m(self, f, engine, **kwds)\u001b[0m\n\u001b[1;32m    610\u001b[0m             \u001b[0mself\u001b[0m\u001b[0;34m.\u001b[0m\u001b[0moptions\u001b[0m\u001b[0;34m[\u001b[0m\u001b[0;34m'has_index_names'\u001b[0m\u001b[0;34m]\u001b[0m \u001b[0;34m=\u001b[0m \u001b[0mkwds\u001b[0m\u001b[0;34m[\u001b[0m\u001b[0;34m'has_index_names'\u001b[0m\u001b[0;34m]\u001b[0m\u001b[0;34m\u001b[0m\u001b[0m\n\u001b[1;32m    611\u001b[0m \u001b[0;34m\u001b[0m\u001b[0m\n\u001b[0;32m--> 612\u001b[0;31m         \u001b[0mself\u001b[0m\u001b[0;34m.\u001b[0m\u001b[0m_make_engine\u001b[0m\u001b[0;34m(\u001b[0m\u001b[0mself\u001b[0m\u001b[0;34m.\u001b[0m\u001b[0mengine\u001b[0m\u001b[0;34m)\u001b[0m\u001b[0;34m\u001b[0m\u001b[0m\n\u001b[0m\u001b[1;32m    613\u001b[0m \u001b[0;34m\u001b[0m\u001b[0m\n\u001b[1;32m    614\u001b[0m     \u001b[0;32mdef\u001b[0m \u001b[0m_get_options_with_defaults\u001b[0m\u001b[0;34m(\u001b[0m\u001b[0mself\u001b[0m\u001b[0;34m,\u001b[0m \u001b[0mengine\u001b[0m\u001b[0;34m)\u001b[0m\u001b[0;34m:\u001b[0m\u001b[0;34m\u001b[0m\u001b[0m\n",
      "\u001b[0;32mc:\\program files\\python\\lib\\site-packages\\pandas\\io\\parsers.py\u001b[0m in \u001b[0;36m_make_engine\u001b[0;34m(self, engine)\u001b[0m\n\u001b[1;32m    745\u001b[0m     \u001b[0;32mdef\u001b[0m \u001b[0m_make_engine\u001b[0m\u001b[0;34m(\u001b[0m\u001b[0mself\u001b[0m\u001b[0;34m,\u001b[0m \u001b[0mengine\u001b[0m\u001b[0;34m=\u001b[0m\u001b[0;34m'c'\u001b[0m\u001b[0;34m)\u001b[0m\u001b[0;34m:\u001b[0m\u001b[0;34m\u001b[0m\u001b[0m\n\u001b[1;32m    746\u001b[0m         \u001b[0;32mif\u001b[0m \u001b[0mengine\u001b[0m \u001b[0;34m==\u001b[0m \u001b[0;34m'c'\u001b[0m\u001b[0;34m:\u001b[0m\u001b[0;34m\u001b[0m\u001b[0m\n\u001b[0;32m--> 747\u001b[0;31m             \u001b[0mself\u001b[0m\u001b[0;34m.\u001b[0m\u001b[0m_engine\u001b[0m \u001b[0;34m=\u001b[0m \u001b[0mCParserWrapper\u001b[0m\u001b[0;34m(\u001b[0m\u001b[0mself\u001b[0m\u001b[0;34m.\u001b[0m\u001b[0mf\u001b[0m\u001b[0;34m,\u001b[0m \u001b[0;34m**\u001b[0m\u001b[0mself\u001b[0m\u001b[0;34m.\u001b[0m\u001b[0moptions\u001b[0m\u001b[0;34m)\u001b[0m\u001b[0;34m\u001b[0m\u001b[0m\n\u001b[0m\u001b[1;32m    748\u001b[0m         \u001b[0;32melse\u001b[0m\u001b[0;34m:\u001b[0m\u001b[0;34m\u001b[0m\u001b[0m\n\u001b[1;32m    749\u001b[0m             \u001b[0;32mif\u001b[0m \u001b[0mengine\u001b[0m \u001b[0;34m==\u001b[0m \u001b[0;34m'python'\u001b[0m\u001b[0;34m:\u001b[0m\u001b[0;34m\u001b[0m\u001b[0m\n",
      "\u001b[0;32mc:\\program files\\python\\lib\\site-packages\\pandas\\io\\parsers.py\u001b[0m in \u001b[0;36m__init__\u001b[0;34m(self, src, **kwds)\u001b[0m\n\u001b[1;32m   1117\u001b[0m         \u001b[0mkwds\u001b[0m\u001b[0;34m[\u001b[0m\u001b[0;34m'allow_leading_cols'\u001b[0m\u001b[0;34m]\u001b[0m \u001b[0;34m=\u001b[0m \u001b[0mself\u001b[0m\u001b[0;34m.\u001b[0m\u001b[0mindex_col\u001b[0m \u001b[0;32mis\u001b[0m \u001b[0;32mnot\u001b[0m \u001b[0;32mFalse\u001b[0m\u001b[0;34m\u001b[0m\u001b[0m\n\u001b[1;32m   1118\u001b[0m \u001b[0;34m\u001b[0m\u001b[0m\n\u001b[0;32m-> 1119\u001b[0;31m         \u001b[0mself\u001b[0m\u001b[0;34m.\u001b[0m\u001b[0m_reader\u001b[0m \u001b[0;34m=\u001b[0m \u001b[0m_parser\u001b[0m\u001b[0;34m.\u001b[0m\u001b[0mTextReader\u001b[0m\u001b[0;34m(\u001b[0m\u001b[0msrc\u001b[0m\u001b[0;34m,\u001b[0m \u001b[0;34m**\u001b[0m\u001b[0mkwds\u001b[0m\u001b[0;34m)\u001b[0m\u001b[0;34m\u001b[0m\u001b[0m\n\u001b[0m\u001b[1;32m   1120\u001b[0m \u001b[0;34m\u001b[0m\u001b[0m\n\u001b[1;32m   1121\u001b[0m         \u001b[0;31m# XXX\u001b[0m\u001b[0;34m\u001b[0m\u001b[0;34m\u001b[0m\u001b[0m\n",
      "\u001b[0;32mpandas\\parser.pyx\u001b[0m in \u001b[0;36mpandas.parser.TextReader.__cinit__ (pandas\\parser.c:3246)\u001b[0;34m()\u001b[0m\n",
      "\u001b[0;32mpandas\\parser.pyx\u001b[0m in \u001b[0;36mpandas.parser.TextReader._setup_parser_source (pandas\\parser.c:6111)\u001b[0;34m()\u001b[0m\n",
      "\u001b[0;31mOSError\u001b[0m: File b'./#datasets/hr_izbori.csv' does not exist"
     ]
    }
   ],
   "source": [
    "df = pd.read_csv('./#datasets/hr_izbori.csv', index_col='Izborna jedinica')\n",
    "df"
   ]
  },
  {
   "cell_type": "code",
   "execution_count": null,
   "metadata": {
    "ExecuteTime": {
     "end_time": "2016-09-12T14:01:09.609822",
     "start_time": "2016-09-12T12:01:08.841Z"
    },
    "collapsed": false,
    "init_cell": false
   },
   "outputs": [],
   "source": [
    "def izracunaj_zastupnike(data=df, izborni_prag=0.05, coeff=1,\n",
    "                         zastupnika_po_jedinici=14):\n",
    "    \n",
    "    def zastupnici_po_jedinici(glasovi):\n",
    "        presli_prag = glasovi[glasovi > izborni_prag*glasovi.Ukupno].drop('Ukupno')\n",
    "        quotient = [presli_prag//(coeff*i+1) for i in range(zastupnika_po_jedinici)]\n",
    "        min_glasova = sorted(np.array(quotient).ravel())[-zastupnika_po_jedinici]\n",
    "        zastupnici = pd.DataFrame(quotient)\n",
    "        return zastupnici[zastupnici >= min_glasova].count()\n",
    "    \n",
    "    zastupnici_po_jedinicama = []\n",
    "    if isinstance(data, pd.DataFrame):\n",
    "        \n",
    "        for jedinica in data.index.values:\n",
    "            glasovi = data.ix[jedinica]\n",
    "            zastupnici = zastupnici_po_jedinici(glasovi)\n",
    "            zastupnici_po_jedinicama.append(zastupnici)\n",
    "    else:\n",
    "        zastupnici_po_jedinicama.append(zastupnici_po_jedinici(data))\n",
    "\n",
    "    return (pd.DataFrame(zastupnici_po_jedinicama, index=df.index)\n",
    "            .reindex(columns=df.columns)\n",
    "            .drop('Ukupno', axis=1)\n",
    "           )"
   ]
  },
  {
   "cell_type": "code",
   "execution_count": null,
   "metadata": {
    "ExecuteTime": {
     "end_time": "2016-09-12T14:01:09.610822",
     "start_time": "2016-09-12T12:01:08.843Z"
    },
    "collapsed": false,
    "init_cell": false
   },
   "outputs": [],
   "source": [
    "def plot_zastupnika(rezultati, usporedi_s=None, tekst='', filename=None):\n",
    "    cols = 2 if usporedi_s is not None else 1\n",
    "    fig, axes = plt.subplots(rezultati.shape[0], cols, \n",
    "                             figsize=(5*cols, 12), sharex='col')\n",
    "    axes = axes.ravel()\n",
    "    \n",
    "    def plotaj_jedinicu(jedinica, desni_graf=False):\n",
    "        jedinica.plot(kind='barh', width=1, ax=ax)\n",
    "        ax.tick_params(axis='both', length=0, which='both')\n",
    "        \n",
    "        if not desni_graf:\n",
    "            ax.set_ylabel('{}. IJ'.format(i))\n",
    "            ax.set_xlim(0, 8)\n",
    "            ax.set_xlabel('Broj zastupnika')\n",
    "        else:\n",
    "            ax.axvline(x=0, color='k')\n",
    "            ax.set_yticklabels([])\n",
    "            ax.set_xlim(-4, 4)\n",
    "            ax.set_xlabel('Razlika u broju zastupnika')\n",
    "            \n",
    "    \n",
    "    for i, ax in enumerate(axes[::cols], 1):\n",
    "        izb_jed = rezultati.ix[i].dropna().sort_index(ascending=False)\n",
    "        plotaj_jedinicu(izb_jed)\n",
    "    axes[0].set_title('Broj zastupnika po izbornim jedinicama')\n",
    "        \n",
    "    if usporedi_s is not None:\n",
    "        razlike = rezultati.sub(usporedi_s, fill_value=0)\n",
    "        \n",
    "        for i, ax in enumerate(axes[1::cols], 1):\n",
    "            izb_jed = razlike.ix[i].dropna().sort_index(ascending=False)\n",
    "            plotaj_jedinicu(izb_jed, desni_graf=True)\n",
    "        \n",
    "        axes[0].set_title('Broj zastupnika po izbornim jedinicama\\n'\n",
    "                          '({})'.format(tekst))\n",
    "        axes[1].set_title('Razlika u odnosu na sadašnji sustav')\n",
    "        fig.subplots_adjust(wspace=0.1)\n",
    "        \n",
    "    if filename:\n",
    "        plt.tight_layout()\n",
    "        plt.savefig('./figures/hr_izbori_{}_01.png'.format(filename), dpi=70)"
   ]
  },
  {
   "cell_type": "code",
   "execution_count": null,
   "metadata": {
    "ExecuteTime": {
     "end_time": "2016-09-12T14:01:09.610822",
     "start_time": "2016-09-12T12:01:08.844Z"
    },
    "collapsed": false,
    "init_cell": false
   },
   "outputs": [],
   "source": [
    "zbroji_zastupnike = lambda x: x.sum().sort_values(na_position='first')\n",
    "\n",
    "\n",
    "def plot_ukupno_zastupnika(rezultati, usporedi_s=None, tekst='', \n",
    "                           xlim=(-4, 4), filename=None):\n",
    "    def plotaj(graf, ax):\n",
    "        graf.plot(kind='barh', width=0.5, ax=ax)\n",
    "        ax.tick_params(axis='both', length=0, which='both')\n",
    "    \n",
    "    cols = 2 if usporedi_s is not None else 1\n",
    "    fig, axes = plt.subplots(1, cols, figsize=(5*cols, 5))\n",
    "\n",
    "    if cols == 1:\n",
    "        ax1 = axes\n",
    "        plotaj(rezultati, ax1)\n",
    "    else:\n",
    "        ax1, ax2 = axes\n",
    "        plotaj(rezultati, ax1)\n",
    "        razlike = rezultati.sub(usporedi_s.reindex_like(rezultati), fill_value=0)\n",
    "        plotaj(razlike, ax2)\n",
    "\n",
    "    for bar, value in zip(ax1.patches, rezultati.values):\n",
    "        if value > 1:\n",
    "            x = bar.get_width()\n",
    "            y = bar.get_y()\n",
    "            dx = ax1.get_xbound()[1] / 100\n",
    "            dy = bar.get_height() / 2\n",
    "            ax1.text(x-dx, y+dy, int(value), va='center', ha='right', color='white')\n",
    "            \n",
    "            \n",
    "    _ = (ax1.set_title('Ukupni broj zastupnika'),\n",
    "         ax1.set_xlim(0, 60),\n",
    "         ax1.set_xlabel('Broj zastupnika'),\n",
    "         ax1.set_ylabel('Stranka')\n",
    "        )\n",
    "    \n",
    "    if cols == 2:\n",
    "         _ = (ax1.set_title('Ukupni broj zastupnika\\n'\n",
    "                            '({})'.format(tekst)),\n",
    "              ax2.set_title('Razlika u odnosu na sadašnji sustav'),\n",
    "              ax2.axvline(x=0, color='k'),\n",
    "              ax2.set_yticklabels([]),\n",
    "              ax2.set_xlim(xlim),\n",
    "              ax2.set_xlabel('Razlika u broju zastupnika'),\n",
    "              fig.subplots_adjust(wspace=0.1),\n",
    "             )\n",
    "    if filename:\n",
    "        plt.tight_layout()\n",
    "        plt.savefig('./figures/hr_izbori_{}_02.png'.format(filename), dpi=70)"
   ]
  },
  {
   "cell_type": "markdown",
   "metadata": {},
   "source": [
    "## Trenutni izborni sustav\n",
    "\n",
    "Rezultati po izbornim jedinicama i ukupni rezultati dobiveni po trenutno važećim pravilima (D'Hondtova metoda, 5% izborni prag)."
   ]
  },
  {
   "cell_type": "code",
   "execution_count": null,
   "metadata": {
    "ExecuteTime": {
     "end_time": "2016-09-12T14:01:09.610822",
     "start_time": "2016-09-12T12:01:08.851Z"
    },
    "collapsed": false
   },
   "outputs": [],
   "source": [
    "zastupnici = izracunaj_zastupnike()\n",
    "zastupnici_ukupno = zbroji_zastupnike(zastupnici)\n",
    "filename = '01_trenutno'\n",
    "\n",
    "plot_zastupnika(zastupnici, filename=filename)\n",
    "plot_ukupno_zastupnika(zastupnici_ukupno, filename=filename)"
   ]
  },
  {
   "cell_type": "markdown",
   "metadata": {},
   "source": [
    "## Cijela Hrvatska je jedna izborna jedinica\n",
    "\n",
    "U ovom scenariju promatramo kako bi izgledala raspodjela mandata u Saboru da je cijela Hrvatska jedna izborna jedinica u kojoj se bira 140 zastupnika."
   ]
  },
  {
   "cell_type": "code",
   "execution_count": null,
   "metadata": {
    "ExecuteTime": {
     "end_time": "2016-09-12T14:01:09.611822",
     "start_time": "2016-09-12T12:01:08.858Z"
    },
    "collapsed": false
   },
   "outputs": [],
   "source": [
    "jedna_izborna = df.sum()\n",
    "jedna_zastupnici = (izracunaj_zastupnike(jedna_izborna, zastupnika_po_jedinici=140)\n",
    "                    .ix[1]\n",
    "                    .fillna(0)\n",
    "                    .sort_values()\n",
    "                   )\n",
    "tekst = 'jedna izborna jedinica'\n",
    "filename = '02_jedna'\n",
    "\n",
    "plot_ukupno_zastupnika(jedna_zastupnici, zastupnici_ukupno, \n",
    "                       tekst=tekst, filename=filename)"
   ]
  },
  {
   "cell_type": "markdown",
   "metadata": {},
   "source": [
    "Pobjednici ovakvih izbora (u odnosu na trenutne izbore) su MOST i Živi zid, koji osvajaju 25% više zastupničkih mjesta.  \n",
    "Gubitnici su, logično, stranke koje su uspjele osvojiti mandate samo u pojedinim izbornim jedinicama: IDS, HDDSB i Bandić."
   ]
  },
  {
   "cell_type": "markdown",
   "metadata": {},
   "source": [
    "## Izborni prag je 3%\n",
    "\n",
    "Često se može čuti kako je hrvatski izborni prag od 5% previsok i da bi ga trebalo sniziti kako bi se dala šansa manjim strankama.  \n",
    "Koliko bi se promijenila slika u Saboru da je izborni prag 3% umjesto dosadašnjih 5%?"
   ]
  },
  {
   "cell_type": "code",
   "execution_count": null,
   "metadata": {
    "ExecuteTime": {
     "end_time": "2016-09-12T14:01:09.611822",
     "start_time": "2016-09-12T12:01:08.870Z"
    },
    "collapsed": false,
    "scrolled": false
   },
   "outputs": [],
   "source": [
    "zastupnici_3posto = izracunaj_zastupnike(izborni_prag=0.03)\n",
    "zastupnici_3posto_ukupno = zbroji_zastupnike(zastupnici_3posto)\n",
    "tekst = 'izborni prag 3%'\n",
    "filename = '03_prag3posto'\n",
    "\n",
    "plot_zastupnika(zastupnici_3posto, zastupnici, tekst=tekst, filename=filename)\n",
    "plot_ukupno_zastupnika(zastupnici_3posto_ukupno, zastupnici_ukupno, tekst=tekst, filename=filename)"
   ]
  },
  {
   "cell_type": "markdown",
   "metadata": {},
   "source": [
    "Suprotno nagađanjima, vidimo da smanjenjem izbornog praga na 3% ne bi došlo do nikakvih promjena u Saboru: osvojeni mandati u svim izbornim jedinicama ostaju jednaki kao i kod trenutnog sustava.  \n",
    "Ono što se može primijetiti (na gornjem grafu) je veliki broj slučajeva gdje stranke prelaze izborni prag, ali nemaju dovoljan broj glasova za osvajanje mandata: Bandić u čak četiri izborne jedinice, Pametno i Živi zid u dvije izborne jedinice, a HDSSB u jednoj."
   ]
  },
  {
   "cell_type": "markdown",
   "metadata": {},
   "source": [
    "## Cijela Hrvatska je jedna izborna jedinica i izborni prag je 3%\n",
    "\n",
    "Kombinacijom prethodna dva scenarija, dobivamo pod\n",
    "jelu zastupničkih mjesta kada bi cijela Hrvatska bila jedna izborna jedinica uz izborni prag od 3%."
   ]
  },
  {
   "cell_type": "code",
   "execution_count": null,
   "metadata": {
    "ExecuteTime": {
     "end_time": "2016-09-12T14:01:09.611822",
     "start_time": "2016-09-12T12:01:08.879Z"
    },
    "collapsed": false
   },
   "outputs": [],
   "source": [
    "jedna_izborna = df.sum()\n",
    "jedna_zastupnici = (izracunaj_zastupnike(jedna_izborna, \n",
    "                                         zastupnika_po_jedinici=140, \n",
    "                                         izborni_prag=0.03)\n",
    "                    .ix[1]\n",
    "                    .fillna(0)\n",
    "                    .sort_values()\n",
    "                   )\n",
    "tekst = 'jedna izborna jedinica i prag 3%'\n",
    "filename = '04_jedna3posto'\n",
    "\n",
    "plot_ukupno_zastupnika(jedna_zastupnici, zastupnici_ukupno, \n",
    "                       tekst=tekst, filename=filename)"
   ]
  },
  {
   "cell_type": "markdown",
   "metadata": {},
   "source": [
    "Za razliku od jedne izborne jedinice uz izborni prag od 5%, kada Bandić ostaje bez ijednog mandata, u ovakvom scenariju postaje pobjednik koji je utrostručio broj zastupničkih mjesta.  \n",
    "Lokalne stranke (IDS, HDSSB) u ovakvom scenariju nemaju šanse."
   ]
  },
  {
   "cell_type": "markdown",
   "metadata": {},
   "source": [
    "## U svakoj izbornoj jedinici bira se 12 zastupnika\n",
    "\n",
    "Kako bi se smanjio ukupni broj zastupnika u Saboru, umjesto dosadašnjih 14 zastupnika po izbornoj jedinici, sada ih se bira samo 12 po jedinici."
   ]
  },
  {
   "cell_type": "code",
   "execution_count": null,
   "metadata": {
    "ExecuteTime": {
     "end_time": "2016-09-12T14:01:09.611822",
     "start_time": "2016-09-12T12:01:08.893Z"
    },
    "collapsed": false,
    "scrolled": false
   },
   "outputs": [],
   "source": [
    "zastupnici_10 = izracunaj_zastupnike(zastupnika_po_jedinici=12)\n",
    "zastupnici_10_ukupno = zbroji_zastupnike(zastupnici_10)\n",
    "\n",
    "tekst = '10 zastupnika po jedinici'\n",
    "filename = '05_10zastupnika'\n",
    "\n",
    "plot_zastupnika(zastupnici_10, zastupnici, tekst=tekst, filename=filename)\n",
    "plot_ukupno_zastupnika(zastupnici_10_ukupno, zastupnici_ukupno, \n",
    "                       tekst=tekst, xlim=(-9, 0), filename=filename)"
   ]
  },
  {
   "cell_type": "markdown",
   "metadata": {},
   "source": [
    "Smanjenje broja zastupnika, čak i ako se radi o samo dva zastpunika manje po izbornoj jedinici, najgore pogađa stranke koje su osvojile najviše mandata.  \n",
    "Tri stranke s najmanjim brojem mandata zadržale bi sve svoje mandate i tako, relativno gledajući, ojačale svoju poziciju u Saboru."
   ]
  },
  {
   "cell_type": "markdown",
   "metadata": {},
   "source": [
    "## Korištenje Webster metode\n",
    "\n",
    "Više o metodi [ovdje](https://en.wikipedia.org/wiki/Webster/Sainte-Lagu%C3%AB_method).\n",
    "\n",
    "Ukratko:  \n",
    "Kod D'Hondt metode kvocijenti kojima se dijele glasovi iznose 1, 2, 3, 4, 5, itd.  \n",
    "Kod Webster metode kvocijenti kojima se dijele glasovi iznose 1, 3, 5, 7, 9, itd. \n",
    "\n",
    "Neke od zemalja u kojima se koristi Webster metoda: Norveška, Švedska, Njemačka za izbor u Bundestag, te susjedna Bosna i Hercegovina.\n",
    "\n",
    "U teoriji, zbog većih kvocijenata, ova metoda bi trebala više pogodovati strankama koje su osvojile manji broj glasova."
   ]
  },
  {
   "cell_type": "code",
   "execution_count": null,
   "metadata": {
    "ExecuteTime": {
     "end_time": "2016-09-12T14:01:09.612822",
     "start_time": "2016-09-12T12:01:08.908Z"
    },
    "collapsed": false
   },
   "outputs": [],
   "source": [
    "zastupnici_webster = izracunaj_zastupnike(coeff=2)\n",
    "zastupnici_webster_ukupno = zbroji_zastupnike(zastupnici_webster)\n",
    "tekst = 'Webster metoda'\n",
    "filename = '06_webster'\n",
    "\n",
    "plot_zastupnika(zastupnici_webster, zastupnici, tekst=tekst, filename=filename)\n",
    "plot_ukupno_zastupnika(zastupnici_webster_ukupno, zastupnici_ukupno, \n",
    "                       tekst=tekst, filename=filename)"
   ]
  },
  {
   "cell_type": "markdown",
   "metadata": {},
   "source": [
    "Dvije najveće stranke osvajaju ukupno tri mandata manje, što i nije velika razlika u odnosu na sadašnji sustav."
   ]
  },
  {
   "cell_type": "markdown",
   "metadata": {
    "ExecuteTime": {
     "end_time": "2016-09-11T10:59:30.787989",
     "start_time": "2016-09-11T10:59:29.884937"
    }
   },
   "source": [
    "## Webster metoda i izborni prag od 3%"
   ]
  },
  {
   "cell_type": "markdown",
   "metadata": {},
   "source": [
    "Iako bi Webster metoda trebala pogodovati manjim strankama, izborni prag od 5% predstavlja previsoku barijeru za neke od njih.  \n",
    "Vidjeli smo da [smanjenje izbornog praga na 3% kod D'Hondt metode](#Izborni-prag-je-3%) ne donosi nikakvu promjenu. Što donosi smanjenje izbornog praga na 3% kod Webster metode?"
   ]
  },
  {
   "cell_type": "code",
   "execution_count": null,
   "metadata": {
    "ExecuteTime": {
     "end_time": "2016-09-12T14:01:09.612822",
     "start_time": "2016-09-12T12:01:08.923Z"
    },
    "collapsed": false
   },
   "outputs": [],
   "source": [
    "zastupnici_webster3 = izracunaj_zastupnike(coeff=2, izborni_prag=0.03)\n",
    "zastupnici_webster3_ukupno = zbroji_zastupnike(zastupnici_webster3)\n",
    "tekst = 'Webster metoda i prag 3%'\n",
    "filename = '07_webster3posto'\n",
    "\n",
    "plot_zastupnika(zastupnici_webster3, zastupnici, tekst=tekst, filename=filename)\n",
    "plot_ukupno_zastupnika(zastupnici_webster3_ukupno, zastupnici_ukupno, \n",
    "                       filename=filename, tekst=tekst, xlim=(-6, 6))"
   ]
  },
  {
   "cell_type": "markdown",
   "metadata": {
    "collapsed": true
   },
   "source": [
    "Webster metoda uz izborni prag od 3% ublažava razlike u broju mandata između stranaka, pogodujući strankama s manje glasova.  \n",
    "Jedino u ovom scenariju stranka Pametno uspijeva postati parlamentarna stranka uz dva zastupnika (iz 1. i 10. izborne jedinice)."
   ]
  },
  {
   "cell_type": "markdown",
   "metadata": {},
   "source": [
    "&nbsp;\n",
    "\n",
    "&nbsp;\n",
    "\n",
    "&nbsp;\n"
   ]
  },
  {
   "cell_type": "code",
   "execution_count": 1,
   "metadata": {
    "ExecuteTime": {
     "end_time": "2016-09-12T14:00:59.512245",
     "start_time": "2016-09-12T14:00:59.498244"
    },
    "collapsed": false,
    "init_cell": true
   },
   "outputs": [
    {
     "data": {
      "text/html": [
       "<style>\n",
       "    @import 'https://fonts.googleapis.com/css?family=Merriweather:300|Open+Sans:700|Source+Code+Pro';\n",
       "    div.cell{\n",
       "        width: 85%;\n",
       "        margin-left:auto;\n",
       "        margin-right:auto;\n",
       "    }\n",
       "    ul {\n",
       "        line-height: 130%;\n",
       "    }\n",
       "    li {\n",
       "        margin-bottom: 0.5em;\n",
       "    }\n",
       "    h1, h2, h3, h4, h5 {\n",
       "        font-family: 'Open Sans', sans-serif;\n",
       "    }\n",
       "\n",
       "    div.text_cell_render{\n",
       "        font-family: 'Merriweather', serif;\n",
       "        font-weight: 300;\n",
       "        line-height: 175%;\n",
       "        font-size: 1.2em;\n",
       "        letter-spacing: 0.3pt;\n",
       "        width: 100%;\n",
       "        margin-left:auto;\n",
       "        margin-right:auto;\n",
       "    }\n",
       "    div.input_area{\n",
       "        font-family: 'Source Code Pro', 'Consolas', monospace;\n",
       "        font-size: 12pt;\n",
       "    }\n",
       "    .CodeMirror{\n",
       "        font-family: 'Source Code Pro', 'Consolas', monospace;\n",
       "        font-size: 12pt;\n",
       "    }\n",
       "    .warning{\n",
       "        color: rgb( 240, 20, 20 )\n",
       "        }\n",
       "</style>\n"
      ],
      "text/plain": [
       "<IPython.core.display.HTML object>"
      ]
     },
     "execution_count": 1,
     "metadata": {},
     "output_type": "execute_result"
    }
   ],
   "source": [
    "from IPython.core.display import HTML\n",
    "def css_styling(): \n",
    "    styles = open(\"./styles/custom.css\", \"r\").read()\n",
    "    return HTML(styles)\n",
    "css_styling()"
   ]
  }
 ],
 "metadata": {
  "_draft": {
   "nbviewer_url": "https://gist.github.com/9916e6394f1668d83cf214daa2762c09"
  },
  "celltoolbar": "Initialisation Cell",
  "gist": {
   "data": {
    "description": "hr-izbori-2016.ipynb",
    "public": false
   },
   "id": "9916e6394f1668d83cf214daa2762c09"
  },
  "kernelspec": {
   "display_name": "Python 3",
   "language": "python",
   "name": "python3"
  },
  "language_info": {
   "codemirror_mode": {
    "name": "ipython",
    "version": 3
   },
   "file_extension": ".py",
   "mimetype": "text/x-python",
   "name": "python",
   "nbconvert_exporter": "python",
   "pygments_lexer": "ipython3",
   "version": "3.5.1"
  },
  "latex_envs": {
   "bibliofile": "biblio.bib",
   "cite_by": "apalike",
   "current_citInitial": 1,
   "eqLabelWithNumbers": true,
   "eqNumInitial": 0
  }
 },
 "nbformat": 4,
 "nbformat_minor": 0
}
